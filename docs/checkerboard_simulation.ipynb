{
 "cells": [
  {
   "cell_type": "markdown",
   "metadata": {},
   "source": [
    "# Checkerboard simulation"
   ]
  },
  {
   "cell_type": "code",
   "execution_count": 1,
   "metadata": {"nbsphinx": "hidden"},
   "outputs": [
    {
     "name": "stdout",
     "output_type": "stream",
     "text": [
      "d:\\scarccpy\n"
     ]
    }
   ],
   "source": [
    "%cd .."
   ]
  },
  {
   "cell_type": "code",
   "execution_count": 40,
   "metadata": {},
   "outputs": [],
   "source": [
    "import os\n",
    "import pandas as pd\n",
    "import numpy as np  \n",
    "\n",
    "from scarcc.preparation.metabolic_model import BasicModel\n",
    "from scarcc.preparation.find_directory import find_directory \n",
    "# get file directory \n",
    "model_directory = find_directory('models', os.path.abspath(''))\n",
    "data_directory = find_directory('Data', os.path.abspath(''))\n",
    "\n",
    "# initialize model\n",
    "E0, S0, all_components = BasicModel(model_directory=model_directory, flux_weighting=True).load_ES_models()"
   ]
  },
  {
   "cell_type": "markdown",
   "metadata": {},
   "source": [
    "## Data Input\n",
    "Input Lab data to normalized biomass data frames for each drug and each species.\n",
    "\n",
    "<div class=\"alert alert-info\">\n",
    "**NOTE :**\n",
    "\n",
    "Each list for different species under the same gene must have the same length. Elements corresponding to the growth of each bacteria at each drug dosage level.\n",
    "\n",
    "Example:\n",
    "\n",
    "Each first element of species 1 and species 2 corresponds to the same dosage (1X concentration)\n",
    "\n",
    "Each second element of species 1 and species 2 corresponds to another same dosage (2X concentration), ect.\n",
    "</div>"
   ]
  },
  {
   "cell_type": "code",
   "execution_count": 3,
   "metadata": {},
   "outputs": [
    {
     "name": "stderr",
     "output_type": "stream",
     "text": [
      "D:\\scarccpy\\src\\scarcc\\preparation\\perturbation\\alpha_finder\\checkerboard.py:22: FutureWarning: DataFrame.applymap has been deprecated. Use DataFrame.map instead.\n",
      "  normalized_growth = normalized_growth.applymap(convert_to_list)\n"
     ]
    },
    {
     "data": {
      "text/html": [
       "<div>\n",
       "<style scoped>\n",
       "    .dataframe tbody tr th:only-of-type {\n",
       "        vertical-align: middle;\n",
       "    }\n",
       "\n",
       "    .dataframe tbody tr th {\n",
       "        vertical-align: top;\n",
       "    }\n",
       "\n",
       "    .dataframe thead th {\n",
       "        text-align: right;\n",
       "    }\n",
       "</style>\n",
       "<table border=\"1\" class=\"dataframe\">\n",
       "  <thead>\n",
       "    <tr style=\"text-align: right;\">\n",
       "      <th></th>\n",
       "      <th>E0</th>\n",
       "      <th>S0</th>\n",
       "    </tr>\n",
       "  </thead>\n",
       "  <tbody>\n",
       "    <tr>\n",
       "      <th>folA</th>\n",
       "      <td>[1, 1, 0.95, 0.9, 0.5, 0.1]</td>\n",
       "      <td>[1, 0.95, 0.9, 0.7, 0.376, 0.06]</td>\n",
       "    </tr>\n",
       "    <tr>\n",
       "      <th>folP</th>\n",
       "      <td>[1, 0.95, 0.893, 0.86, 0.62, 0.45]</td>\n",
       "      <td>[1, 0.95, 0.9, 0.76, 0.25, 0]</td>\n",
       "    </tr>\n",
       "  </tbody>\n",
       "</table>\n",
       "</div>"
      ],
      "text/plain": [
       "                                      E0                                S0\n",
       "folA         [1, 1, 0.95, 0.9, 0.5, 0.1]  [1, 0.95, 0.9, 0.7, 0.376, 0.06]\n",
       "folP  [1, 0.95, 0.893, 0.86, 0.62, 0.45]     [1, 0.95, 0.9, 0.76, 0.25, 0]"
      ]
     },
     "execution_count": 3,
     "metadata": {},
     "output_type": "execute_result"
    }
   ],
   "source": [
    "from scarcc.preparation.perturbation.alpha_finder.checkerboard import read_normalized_growth\n",
    "\n",
    "model_list = [E0, S0]\n",
    "normalized_growth_file_path = os.path.join(data_directory, 'normalized_growth_checkerboard.csv')\n",
    "normalized_growth = read_normalized_growth(normalized_growth_file_path, model_list=model_list)\n",
    "normalized_growth"
   ]
  },
  {
   "cell_type": "markdown",
   "metadata": {},
   "source": [
    "Use ``read_normalized_growth`` to read the normalized_growth is required, as it replace columns name with metabolic model instead of the mode id.\n",
    "\n",
    "<div class=\"alert alert-info\">\n",
    "**NOTE :**\n",
    "\n",
    "The metabolic models supplied to ``CheckerboardAlphaFinder`` in the next section is read directly from columns of normalized_growth\n",
    "</div>"
   ]
  },
  {
   "cell_type": "code",
   "execution_count": 4,
   "metadata": {},
   "outputs": [
    {
     "data": {
      "text/plain": [
       "{'folA': {<Model E0 at 0x1646e0ed670>: [1, 1, 0.95, 0.9, 0.5, 0.1],\n",
       "  <Model S0 at 0x1647fcc0290>: [1, 0.95, 0.9, 0.7, 0.376, 0.06]},\n",
       " 'folP': {<Model E0 at 0x1646e0ed670>: [1, 0.95, 0.893, 0.86, 0.62, 0.45],\n",
       "  <Model S0 at 0x1647fcc0290>: [1, 0.95, 0.9, 0.76, 0.25, 0]}}"
      ]
     },
     "execution_count": 4,
     "metadata": {},
     "output_type": "execute_result"
    }
   ],
   "source": [
    "normalized_growth.to_dict(orient='index')"
   ]
  },
  {
   "cell_type": "markdown",
   "metadata": {},
   "source": [
    "## Generate and save alpha_table_checkerboard\n",
    "``maf_kwargs`` are passed to ``MonocultureAlphaFinder``  , see [Deriving Alpha Table from FBA](fba_alpha_derivation.ipynb) for customization\n",
    "\n"
   ]
  },
  {
   "cell_type": "code",
   "execution_count": 5,
   "metadata": {},
   "outputs": [],
   "source": [
    "from scarcc.preparation.perturbation.alpha_finder.checkerboard import CheckerboardAlphaFinder\n",
    "\n",
    "maf_kwargs = {\n",
    "    'acceptance_threshold_upper': .995,\n",
    "    'acceptance_threshold_lower': 1.001,\n",
    "    'precision': 3\n",
    "}\n",
    "\n",
    "caf = CheckerboardAlphaFinder(normalized_growth=normalized_growth, data_directory=data_directory, **maf_kwargs)\n",
    "alpha_table_checkerboard = caf.get_checkerboard_alpha_table()"
   ]
  },
  {
   "cell_type": "markdown",
   "metadata": {},
   "source": [
    "## Intrinsic resistance of each species"
   ]
  },
  {
   "cell_type": "code",
   "execution_count": 6,
   "metadata": {},
   "outputs": [
    {
     "data": {
      "image/png": "[encoded data removed]",
      "text/plain": [
       "<Figure size 640x480 with 1 Axes>"
      ]
     },
     "metadata": {},
     "output_type": "display_data"
    },
    {
     "data": {
      "image/png": "[encoded data removed]",
      "text/plain": [
       "<Figure size 640x480 with 1 Axes>"
      ]
     },
     "metadata": {},
     "output_type": "display_data"
    }
   ],
   "source": [
    "import matplotlib.pyplot as plt\n",
    "def plot_response(response_record, current_gene):\n",
    "    plt.figure()\n",
    "\n",
    "    for Species in caf.species_list:\n",
    "        df = pd.DataFrame({\n",
    "            'index': np.arange(len(response_record[current_gene][Species]['nbiomass_x'])),\n",
    "            'nbiomass_x': response_record[current_gene][Species]['nbiomass_x']\n",
    "        })\n",
    "        plt.scatter(x=df['index'], y=df['nbiomass_x'], label=Species.id)\n",
    "    plt.title(f'Drug Dosage Response Curve for {current_gene}')\n",
    "    plt.ylabel('Response')\n",
    "    plt.xlabel('Dosage Level')\n",
    "    plt.legend()\n",
    "\n",
    "_ = [plot_response(caf.response_record, current_gene) for current_gene in caf.response_record.keys()]\n"
   ]
  },
  {
   "cell_type": "markdown",
   "metadata": {},
   "source": [
    "## Simulation"
   ]
  },
  {
   "cell_type": "code",
   "execution_count": 59,
   "metadata": {},
   "outputs": [],
   "source": [
    "import cometspy as c\n",
    "\n",
    "sim_chamber_directory = find_directory('SimChamber', os.path.abspath(''))\n",
    "alpha_table_path = os.path.join(data_directory, 'alpha_table_checkerboard.csv')\n",
    "alpha_table_checkerboard = pd.read_csv(alpha_table_path, index_col=0, converters={'lv_pairs': ast.literal_eval})\n",
    "query_pairs = [(0, 0), (1,0), (0,2), (1,2)] # Uncomment this for full checkerboard\n",
    "alpha_table_checkerboard = alpha_table_checkerboard.query('lv_pairs in @query_pairs') # Uncomment this for full checkerboard\n",
    "\n",
    "p = c.params()\n",
    "p.set_param(\"defaultKm\", 0.00001) # M\n",
    "p.set_param(\"defaultVmax\", 10) #mmol/gDw/hr\n",
    "p.set_param(\"maxCycles\", 30)\n",
    "# p.set_param(\"maxCycles\", 150)\n",
    "p.set_param(\"timeStep\", 1)\n",
    "p.set_param('writeFluxLog', True)\n",
    "\n",
    "checkerboard_simulation_kwargs = {\n",
    "    'E0': E0,\n",
    "    'S0': S0,\n",
    "    'base': sim_chamber_directory,\n",
    "    'p': p}"
   ]
  },
  {
   "cell_type": "code",
   "execution_count": 39,
   "metadata": {},
   "outputs": [
    {
     "name": "stdout",
     "output_type": "stream",
     "text": [
      "biomass, growth_rate, normalized_growth_rate, drug_response_classification, flux data derived from checkerboard were saved in d:\\scarccpy\\Data\\flux_analysis_checkerboard.csv\n"
     ]
    }
   ],
   "source": [
    "from scarcc.sim_engine.checkerboard_workflow import run_checkerboard_workflow\n",
    "\n",
    "df_container = run_checkerboard_workflow(\n",
    "    alpha_table = alpha_table_checkerboard, data_directory = data_directory,\n",
    "    **checkerboard_simulation_kwargs)"
   ]
  },
  {
   "cell_type": "code",
   "execution_count": null,
   "metadata": {},
   "outputs": [],
   "source": []
  }
 ],
 "metadata": {
  "kernelspec": {
   "display_name": "scar",
   "language": "python",
   "name": "python3"
  },
  "language_info": {
   "codemirror_mode": {
    "name": "ipython",
    "version": 3
   },
   "file_extension": ".py",
   "mimetype": "text/x-python",
   "name": "python",
   "nbconvert_exporter": "python",
   "pygments_lexer": "ipython3",
   "version": "3.12.1"
  }
 },
 "nbformat": 4,
 "nbformat_minor": 2
}
