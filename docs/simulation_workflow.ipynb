{
 "cells": [
  {
   "cell_type": "markdown",
   "metadata": {},
   "source": [
    "# Simulation Workflow"
   ]
  },
  {
   "cell_type": "code",
   "execution_count": 1,
   "metadata": {
    "nbsphinx": "hidden"
   },
   "outputs": [
    {
     "name": "stdout",
     "output_type": "stream",
     "text": [
      "d:\\scarccpy\n"
     ]
    }
   ],
   "source": [
    "# hide cell\n",
    "%cd .."
   ]
  },
  {
   "cell_type": "code",
   "execution_count": 2,
   "metadata": {},
   "outputs": [
    {
     "name": "stdout",
     "output_type": "stream",
     "text": [
      "make directory at script level: d:\\scarccpy\\SimChamber\n"
     ]
    }
   ],
   "source": [
    "import pandas as pd\n",
    "import os\n",
    "import cometspy as c\n",
    "\n",
    "from scarcc.preparation.find_directory import find_directory\n",
    "from scarcc.preparation.metabolic_model import BasicModel\n",
    "\n",
    "data_directory = find_directory('Data', os.path.abspath(''))\n",
    "model_directory = find_directory('models', os.path.abspath(''))\n",
    "sim_chamber_directory = find_directory('SimChamber', os.path.abspath(''))\n",
    "\n",
    "E0, S0, all_components = BasicModel(flux_weighting=True, model_directory=model_directory).load_ES_models()\n",
    "alpha_table = pd.read_csv(os.path.join(data_directory, 'alpha_table_m1.csv'), index_col=0)\n",
    "\n",
    "p = c.params()\n",
    "p.set_param(\"defaultKm\", 0.00001) # M\n",
    "p.set_param(\"defaultVmax\", 10) #mmol/gDw/hr\n",
    "p.set_param(\"maxCycles\", 30)\n",
    "# p.set_param(\"maxCycles\", 150)\n",
    "p.set_param(\"timeStep\", 1)\n",
    "p.set_param('writeFluxLog', True)\n"
   ]
  },
  {
   "cell_type": "markdown",
   "metadata": {},
   "source": [
    "After configuring basic parameters, we can start to simulate the combined antibiotics. The following code will simulate the combined antibiotics for all the possible combinations of the folA and folP inhibitors. The simulation results will be saved in the directory specified by the variable sim_chamber_directory."
   ]
  },
  {
   "cell_type": "markdown",
   "metadata": {},
   "source": [
    "## Multiprocessing to derive results \n",
    "run_sim_workflow is a function that accept list of gene combinations and map each to perform simulation. Then takes the simulation output data to generate the classification of gene combination effect, concatenating all results and save to excel spreadsheet.\n",
    "\n",
    "``df_containers`` stored all the data frames and break down of it is summarized in the last section"
   ]
  },
  {
   "cell_type": "markdown",
   "metadata": {},
   "source": [
    "This example provides a minimum arguments being passed to the function\n",
    "- method_list = ['m1] \n",
    "    - as suffix to the alpha_table and all the output data frames\n",
    "- supply either ``SG_list`` or ``DG_list`` or both\n",
    "- ``simulation_kwargs`` are passed to the class ``SimulateCombinedAntibiotics`` directly, will be discussed in the section \"Breakdown of steps\"\n",
    "\n",
    "<div class=\"alert alert-info\">\n",
    "\n",
    "**Prerequisite:** \n",
    "    alpha_table correspond to chosen method list stored in data_directory, or run [get_alpha_biomass_df](fba_alpha_derivation.ipynb) before calling ``run_sim_workflow``\n",
    "</div>"
   ]
  },
  {
   "cell_type": "code",
   "execution_count": null,
   "metadata": {},
   "outputs": [
    {
     "name": "stdout",
     "output_type": "stream",
     "text": [
      "reading results from existing files\n",
      "biomass, growth_rate, normalized_growth_rate, drug_response_classification, flux data derived from m1 were saved in d:\\scarccpy\\Data\n"
     ]
    }
   ],
   "source": [
    "from scarcc.sim_engine.simulation_workflow import run_sim_workflow\n",
    "\n",
    "SG_list = ['folA', 'folP'] # Optional, Example: ['folA', 'folP', 'folC']\n",
    "DG_list = [['folA', 'folP']] # Optional, Example: [['folA', 'folP'], ['folC', 'folP'], ['folA', 'folC']]\n",
    "method_list = ['m1']\n",
    "simulation_kwargs = {\n",
    "    'E0': E0,\n",
    "    'S0': S0,\n",
    "    'base': sim_chamber_directory,\n",
    "    'p': p}\n",
    "\n",
    "df_container = run_sim_workflow(method_list=method_list, data_directory=data_directory,\n",
    "                                DG_list=DG_list, **simulation_kwargs)"
   ]
  },
  {
   "cell_type": "code",
   "execution_count": 7,
   "metadata": {},
   "outputs": [
    {
     "name": "stdout",
     "output_type": "stream",
     "text": [
      "reading results from existing files\n",
      "biomass, growth_rate, normalized_growth_rate, drug_response_classification, flux data derived from m1 were saved in d:\\scarccpy\\Data\\flux_analysis_m1.csv\n"
     ]
    }
   ],
   "source": [
    "from scarcc.sim_engine.simulation_workflow import run_sim_workflow\n",
    "\n",
    "SG_list = ['folA', 'folP'] # Optional, Example: ['folA', 'folP', 'folC']\n",
    "DG_list = [['folA', 'folP']] # Optional, Example: [['folA', 'folP'], ['folC', 'folP'], ['folA', 'folC']]\n",
    "method_list = ['m1']\n",
    "simulation_kwargs = {\n",
    "    'E0': E0,\n",
    "    'S0': S0,\n",
    "    'base': sim_chamber_directory,\n",
    "    'p': p}\n",
    "\n",
    "df_container = run_sim_workflow(method_list=method_list, data_directory=data_directory,\n",
    "                                DG_list=DG_list, **simulation_kwargs)"
   ]
  },
  {
   "cell_type": "markdown",
   "metadata": {},
   "source": [
    "Customization of simulation parameters\n",
    "- ``custom_simulation_kwargs`` are passed to the class ``SimulateCombinedAntibiotics``"
   ]
  },
  {
   "cell_type": "markdown",
   "metadata": {},
   "source": [
    "<div class=\"alert alert-info\">\n",
    "\n",
    "**Note :** \n",
    "For a same set of single gene target that have run before, if \"BM_SG_m1.csv\" and \"flux_SG_m1.csv\" already exist in Data directory, and want to test new set of gene combinations, user can omit the ``SG_list`` argument. The program will use the available data that already exist.\n",
    "</div>\n"
   ]
  },
  {
   "cell_type": "code",
   "execution_count": 5,
   "metadata": {},
   "outputs": [
    {
     "data": {
      "text/plain": [
       "<module 'scarcc.sim_engine.simulation_workflow' from 'D:\\\\scarccpy\\\\src\\\\scarcc\\\\sim_engine\\\\simulation_workflow.py'>"
      ]
     },
     "execution_count": 5,
     "metadata": {},
     "output_type": "execute_result"
    }
   ],
   "source": [
    "from importlib import reload\n",
    "import scarcc.sim_engine.simulation_workflow\n",
    "reload(scarcc.sim_engine.simulation_workflow)\n"
   ]
  },
  {
   "cell_type": "code",
   "execution_count": 6,
   "metadata": {},
   "outputs": [
    {
     "name": "stdout",
     "output_type": "stream",
     "text": [
      "biomass, growth_rate, normalized_growth_rate, drug_response_classification, flux data derived from m1 were saved in d:\\scarccpy\\Data\\flux_analysis_m1.csv\n"
     ]
    }
   ],
   "source": [
    "from scarcc.sim_engine.simulation_workflow import run_sim_workflow\n",
    "custom_simulation_kwargs = {\n",
    "    'E0': E0,\n",
    "    'S0': S0,\n",
    "    'base': sim_chamber_directory, # directory to run each simulation in multiprocess\n",
    "    'p': p,\n",
    "    'checker_suffix': None, # checkerboard suffix for excel spreadsheet\n",
    "    'ko': False, # knockout reactions if reaction is encoded by target gene\n",
    "\n",
    "    # layout configuration parameters\n",
    "    'co': True, # Run coculture simulation\n",
    "    'mono': True, # Run monoculture simulation\n",
    "    'mono_E': True, # Run E0 monoculture  simulation\n",
    "    'mono_S': True, # Run S0 monoculture simulation\n",
    "    'Smono_carbon_source': 'bulk_ac_e', # Carbon source for S0 monoculture\n",
    "    'carbon_source': None, # Dictionary for specification of carbon source for each culture\n",
    "    # comets model specifications\n",
    "    'initial_pop': 1e-8, # Initial population for simulation\n",
    "    'obj_style': 'MAX_OBJECTIVE_MIN_TOTAL', # pfba optimization\n",
    "    'SG_list': ['folA', 'folP'], # List of gene targets to simulate\n",
    "}\n",
    "\n",
    "df_container = run_sim_workflow(method_list=['m1'], data_directory=data_directory,\n",
    "                                DG_list=[['folA', 'folP']], **custom_simulation_kwargs)"
   ]
  },
  {
   "cell_type": "markdown",
   "metadata": {},
   "source": [
    "## Detailed break down of steps\n",
    "pseudo code for simulation procedure\n",
    "```\n",
    "with E0, S0:\n",
    "    alter_Sij(...)\n",
    "    set_comets_models(...)\n",
    "    set_layout_object(...)\n",
    "    sim_culture(...)  \n",
    "```\n",
    "\n",
    "<div class=\"alert alert-info\">\n",
    "\n",
    "**Note:** To prepare genes to perform simulation, see [Prepare Genes](prepare_single_gene_target_and_double_gene_combinations.ipynb) and [Prepare Alpha](fba_alpha_derivation.ipynb)\n",
    "\n",
    "</div>\n",
    "\n",
    "\n",
    "<div class=\"alert alert-warning\">\n",
    "\n",
    "Warning\n",
    "\n",
    "Modification of stoichiometry should be within context manager (``with E0, S0:``) such that in each run, the metabolic model restores to unperturbed state\n",
    "\n",
    "</div>"
   ]
  },
  {
   "cell_type": "markdown",
   "metadata": {},
   "source": [
    "### Step 1: Stiochiometric Scaling\n",
    "\n",
    "Reduction of biomass yield under perturbation (see [Stoichiometry Scaling](stoichiometry_scaling.ipynb))\n",
    "\n",
    "\n",
    "<div class=\"alert alert-info\">\n",
    "\n",
    "**Note :** \n",
    "If both target gene in gene combination leads to the inhibition of the same reaction, the inhibition effect to that particular reaction is set to the maximum one rather than scaled twice\n",
    "\n",
    "</div>"
   ]
  },
  {
   "cell_type": "code",
   "execution_count": 3,
   "metadata": {},
   "outputs": [],
   "source": [
    "# Outside context manager ONLY for illustration of workflow, use with E0，S0: during implementation\n",
    "from scarcc.preparation.perturbation import alter_Sij\n",
    "current_gene = 'folA'\n",
    "alter_Sij(E0, alphas=alpha_table.loc[current_gene, 'E0'], genes=current_gene, ko=False)\n",
    "alter_Sij(S0, alphas=alpha_table.loc[current_gene, 'S0'], genes=current_gene, ko=False)"
   ]
  },
  {
   "cell_type": "markdown",
   "metadata": {},
   "source": [
    "### Step 2: Construction layout object for cultures with perturbed metabolic models"
   ]
  },
  {
   "cell_type": "code",
   "execution_count": 20,
   "metadata": {},
   "outputs": [],
   "source": [
    "from scarcc.sim_engine.simulation_configuration import LayoutConfig\n",
    "# E0, S0 are perturbed\n",
    "base_nutrient = [\n",
    "    \"ca2_e\", \"cl_e\", \"cobalt2_e\", \"cu2_e\",\"fe2_e\", \"fe3_e\", \"k_e\", \"mg2_e\",\n",
    "    \"mn2_e\", \"mobd_e\", \"ni2_e\", \"o2_e\", \"pi_e\", \"so4_e\", \"zn2_e\", \"nh4_e\"]\n",
    "\n",
    "layout_kwargs = {\n",
    "    'E0': E0, 'S0': S0, 'carbon_source_val': .1, 'base_nutrients': base_nutrient, \n",
    "    'nutrients_val': 100, 'Smono_carbon_source': 'bulk_ac_e'\n",
    "}\n",
    "layout_config = LayoutConfig(**layout_kwargs)\n",
    "layout_config.set_comets_model()\n",
    "co_layout, E0_layout, S0_layout = layout_config.set_layout_object()"
   ]
  },
  {
   "cell_type": "markdown",
   "metadata": {},
   "source": [
    "Or pass different carbon sources inside a dictionary for each cultures with 'co', 'mono_E', 'mono_S' as keys"
   ]
  },
  {
   "cell_type": "code",
   "execution_count": 25,
   "metadata": {},
   "outputs": [],
   "source": [
    "layout_kwargs['carbon_source'] = carbon_source = {'co': 'lcts_e', 'mono_E': 'lcts_e', 'mono_S': 'bulk_ac_e'}\n",
    "layout_config = LayoutConfig(**layout_kwargs)\n",
    "layout_config.set_comets_model()\n",
    "co_layout, E0_layout, S0_layout = layout_config.set_layout_object()"
   ]
  },
  {
   "cell_type": "markdown",
   "metadata": {},
   "source": [
    "### Step 3: Run simulation with layout"
   ]
  },
  {
   "cell_type": "code",
   "execution_count": 32,
   "metadata": {},
   "outputs": [
    {
     "name": "stdout",
     "output_type": "stream",
     "text": [
      "\n",
      "Running COMETS simulation ...\n",
      "Done!\n"
     ]
    }
   ],
   "source": [
    "sim = c.comets(co_layout, p)\n",
    "sim.run()"
   ]
  },
  {
   "cell_type": "markdown",
   "metadata": {},
   "source": [
    "Extract biomass and flux data frames from COMETS sim object"
   ]
  },
  {
   "cell_type": "code",
   "execution_count": 40,
   "metadata": {},
   "outputs": [
    {
     "name": "stdout",
     "output_type": "stream",
     "text": [
      "biomass: \n",
      "    cycle            E0            S0\n",
      "0      0  1.000000e-08  1.000000e-08\n",
      "1      1  1.000000e-08  1.000000e-08\n",
      "2      2  1.000000e-08  1.000000e-08\n",
      "3      3  1.000000e-08  1.014568e-08\n",
      "4      4  1.047327e-08  1.014568e-08 \n",
      " E0 fluxes:\n",
      "    cycle  x  y  CYTDK2  XPPT  ...  MOCOS  BMOGDS2  FESD2s  OCTNLL  DHFR_v1\n",
      "0      5  1  1     0.0   0.0  ...    0.0      0.0     0.0     0.0      0.0\n",
      "2     10  1  1     0.0   0.0  ...    0.0      0.0     0.0     0.0      0.0\n",
      "4     15  1  1     0.0   0.0  ...    0.0      0.0     0.0     0.0      0.0\n",
      "6     20  1  1     0.0   0.0  ...    0.0      0.0     0.0     0.0      0.0\n",
      "8     25  1  1     0.0   0.0  ...    0.0      0.0     0.0     0.0      0.0\n",
      "\n",
      "[5 rows x 2716 columns] \n",
      " S0 fluxes:\n",
      "    cycle  x  y   3HAD180  ...  OA4L_ST       OA5L_ST  OA4VL_ST  DHFR_v1\n",
      "1      5  1  1  0.000092  ...      0.0  1.990201e-05       0.0      0.0\n",
      "3     10  1  1 -0.008731  ...      0.0  5.364746e-07       0.0      0.0\n",
      "5     15  1  1 -0.000136  ...      0.0  6.088823e-06       0.0      0.0\n",
      "7     20  1  1 -0.000117  ...      0.0  5.213432e-06       0.0      0.0\n",
      "9     25  1  1 -0.000151  ...      0.0  6.747233e-06       0.0      0.0\n",
      "\n",
      "[5 rows x 2549 columns]\n"
     ]
    }
   ],
   "source": [
    "print('biomass: \\n', sim.total_biomass.head(), \n",
    "      '\\n E0 fluxes:\\n', sim.fluxes_by_species['E0'].head(),\n",
    "      '\\n S0 fluxes:\\n', sim.fluxes_by_species['S0'].head())"
   ]
  },
  {
   "cell_type": "markdown",
   "metadata": {},
   "source": [
    "## Integration of all steps"
   ]
  },
  {
   "cell_type": "markdown",
   "metadata": {},
   "source": [
    "### Streamlined Process for Simulation Workflow \n",
    "The implementations illustrated above are integrated in the class ``SimulateCombinedAntibiotics``\n",
    "- takes a target gene or a tuple of gene combination as input\n",
    "- performs a simulation, and returns the biomass and flux results"
   ]
  },
  {
   "cell_type": "code",
   "execution_count": 3,
   "metadata": {},
   "outputs": [
    {
     "name": "stdout",
     "output_type": "stream",
     "text": [
      "\n",
      "Running COMETS simulation ...\n",
      "Done!\n",
      "\n",
      "Running COMETS simulation ...\n",
      "Done!\n",
      "\n",
      "Running COMETS simulation ...\n",
      "Done!\n"
     ]
    }
   ],
   "source": [
    "from scarcc.sim_engine.simulation_workflow import SimulateCombinedAntibiotics\n",
    "alpha_table = pd.read_csv(os.path.join(data_directory, 'alpha_table_m1.csv'), index_col=0)\n",
    "cas = SimulateCombinedAntibiotics(current_gene=['folP','folA'], E0=E0, S0=S0, alpha_table=alpha_table,\n",
    "                                p=p, mono=True, base=sim_chamber_directory)\n",
    "\n",
    "biomass_df, flux_df = cas.get_BM_df()"
   ]
  },
  {
   "cell_type": "markdown",
   "metadata": {},
   "source": [
    "## Display of data frames inside ``df_container``"
   ]
  },
  {
   "cell_type": "markdown",
   "metadata": {},
   "source": [
    "All the result data frames can be queried with tuple key: ``(method_chosen, XG)``\n",
    "\n",
    "where method chosen is any method in the method_list and XG is either 'SG' or 'DG'"
   ]
  },
  {
   "cell_type": "code",
   "execution_count": 5,
   "metadata": {},
   "outputs": [
    {
     "data": {
      "text/plain": [
       "dict_keys(['biomass', 'flux', 'growth_rate', 'normalized_growth_rate', 'drug_response_classification'])"
      ]
     },
     "execution_count": 5,
     "metadata": {},
     "output_type": "execute_result"
    }
   ],
   "source": [
    "df_container[('m1', 'DG')].keys()"
   ]
  },
  {
   "cell_type": "markdown",
   "metadata": {},
   "source": [
    "- \"growth_rate\" and \"drug_response_classification\" are generated in class ``MethodDataFiller``\n",
    "    - To import, run: \n",
    "    \n",
    "        ``from scarcc.sim_engine.output import MethodDataFiller``\n",
    "    - Initialize a df_container and pass to MethodDataFiller:\n",
    "    \n",
    "        pass a df_container with keys \"(method_chosen, XG)\"\n",
    "        for each XG, provide a dictionary with keys \"biomass\" and \"flux\" and the values as the corresponding data frame\n",
    "\n",
    "Example:\n",
    "\n",
    "```\n",
    "df_container = {}\n",
    "df_container['m1', 'SG']  = {'biomass': SG_biomass_df,\n",
    "                            'flux': SG_flux_df}\n",
    "df_container['m1', 'DG']  = {'biomass': DG_biomass_df,\n",
    "                            'flux': DG_flux_df}\n",
    "MethodDataFiller(df_container)\n",
    "mdf.fill_container()\n",
    "mdf.write_to_csv()\n",
    "\n",
    "```"
   ]
  },
  {
   "cell_type": "markdown",
   "metadata": {},
   "source": [
    "SG data frames"
   ]
  },
  {
   "cell_type": "code",
   "execution_count": 30,
   "metadata": {},
   "outputs": [
    {
     "name": "stdout",
     "output_type": "stream",
     "text": [
      "biomass : \n",
      "        E0_Normal_coculture  S0_Normal_coculture  E0_Normal_monoculture  \\\n",
      "cycle                                                                    \n",
      "0             1.000000e-08         1.000000e-08           1.000000e-08   \n",
      "1             1.000000e-08         1.000000e-08           1.754153e-08   \n",
      "2             1.000000e-08         1.000000e-08           3.077053e-08   \n",
      "3             1.000000e-08         1.029133e-08           5.397622e-08   \n",
      "4             1.094643e-08         1.029133e-08           9.468255e-08   \n",
      "\n",
      "       S0_Normal_monoculture  E0_folA_coculture  S0_folA_coculture  \\\n",
      "cycle                                                                \n",
      "0               1.000000e-08       1.000000e-08       1.000000e-08   \n",
      "1               1.077695e-08       1.000000e-08       1.000000e-08   \n",
      "2               1.161426e-08       1.000000e-08       1.000000e-08   \n",
      "3               1.251663e-08       1.000000e-08       1.014568e-08   \n",
      "4               1.348911e-08       1.047327e-08       1.014568e-08   \n",
      "\n",
      "       E0_folA_monoculture  S0_folA_monoculture  E0_folP_coculture  \\\n",
      "cycle                                                                \n",
      "0             1.000000e-08         1.000000e-08       1.000000e-08   \n",
      "1             1.332445e-08         1.041132e-08       1.000000e-08   \n",
      "2             1.775410e-08         1.083955e-08       1.000000e-08   \n",
      "3             2.365636e-08         1.128541e-08       1.000000e-08   \n",
      "4             3.152081e-08         1.174959e-08       1.045757e-08   \n",
      "\n",
      "       S0_folP_coculture  E0_folP_monoculture  S0_folP_monoculture  \n",
      "cycle                                                               \n",
      "0           1.000000e-08         1.000000e-08         1.000000e-08  \n",
      "1           1.000000e-08         1.304388e-08         1.041559e-08  \n",
      "2           1.000000e-08         1.701428e-08         1.084844e-08  \n",
      "3           1.014085e-08         2.219323e-08         1.129929e-08  \n",
      "4           1.014085e-08         2.894858e-08         1.176887e-08   \n",
      "\n",
      "flux : \n",
      "                                    Unnamed: 0  cycle  x  y  CYTDK2  XPPT  \\\n",
      "Gene_inhibition Species culture                                            \n",
      "AB              E0      coculture           0     25  1  1       0     0   \n",
      "                S0      coculture           1     25  1  1       0     0   \n",
      "\n",
      "                                   HXPRT  NDPK5    SHK3Dr  NDPK6  ...  \\\n",
      "Gene_inhibition Species culture                                   ...   \n",
      "AB              E0      coculture      0      0  0.042396      0  ...   \n",
      "                S0      coculture      0      0  0.099704      0  ...   \n",
      "\n",
      "                                         pe2_ST        pg2_ST      clpn2_ST  \\\n",
      "Gene_inhibition Species culture                                               \n",
      "AB              E0      coculture           NaN           NaN           NaN   \n",
      "                S0      coculture  8.020000e-07  2.200000e-07  7.330000e-09   \n",
      "\n",
      "                                         pa2_ST        ps2_ST     12dgr2_ST  \\\n",
      "Gene_inhibition Species culture                                               \n",
      "AB              E0      coculture           NaN           NaN           NaN   \n",
      "                S0      coculture  2.090000e-09  2.090000e-09  9.840000e-08   \n",
      "\n",
      "                                   OAL_ST  OA4L_ST  OA5L_ST  OA4VL_ST  \n",
      "Gene_inhibition Species culture                                        \n",
      "AB              E0      coculture     NaN      NaN      NaN       NaN  \n",
      "                S0      coculture     0.0      0.0      0.0       0.0  \n",
      "\n",
      "[2 rows x 3101 columns] \n",
      "\n",
      "growth_rate : \n",
      "                  E0_coculture  S0_coculture  E0_monoculture  S0_monoculture\n",
      "Gene_inhibition                                                            \n",
      "Normal               0.074819      0.040716        0.547661        0.074824\n",
      "folA                 0.021745      0.009762        0.287016        0.040308\n",
      "folP                 0.021060      0.009690        0.265734        0.040718 \n",
      "\n",
      "normalized_growth_rate : \n",
      "                  E0_coculture  S0_coculture  E0_monoculture  S0_monoculture\n",
      "Gene_inhibition                                                            \n",
      "Normal               1.000000      1.000000        1.000000        1.000000\n",
      "folA                 0.290640      0.239757        0.524075        0.538707\n",
      "folP                 0.281477      0.237998        0.485216        0.544185 \n",
      "\n"
     ]
    },
    {
     "data": {
      "text/plain": [
       "[None, None, None, None]"
      ]
     },
     "execution_count": 30,
     "metadata": {},
     "output_type": "execute_result"
    }
   ],
   "source": [
    "pd.set_option('display.max_columns', 3)\n",
    "[print(k, ': \\n', df.head(), '\\n') for k, df in df_container[('m1', 'SG')].items()]"
   ]
  },
  {
   "cell_type": "markdown",
   "metadata": {},
   "source": [
    "DG data frames"
   ]
  },
  {
   "cell_type": "code",
   "execution_count": 8,
   "metadata": {},
   "outputs": [
    {
     "name": "stdout",
     "output_type": "stream",
     "text": [
      "biomass : \n",
      "        E0_folA.folP_coculture  S0_folA.folP_coculture  \\\n",
      "cycle                                                   \n",
      "0                1.000000e-08            1.000000e-08   \n",
      "1                1.000000e-08            1.000000e-08   \n",
      "2                1.000000e-08            1.000000e-08   \n",
      "3                1.000000e-08            1.000954e-08   \n",
      "4                1.000217e-08            1.000954e-08   \n",
      "\n",
      "       E0_folA.folP_monoculture  S0_folA.folP_monoculture  \n",
      "cycle                                                      \n",
      "0                  1.000000e-08              1.000000e-08  \n",
      "1                  1.000217e-08              1.003103e-08  \n",
      "2                  1.000434e-08              1.006215e-08  \n",
      "3                  1.000650e-08              1.009337e-08  \n",
      "4                  1.000867e-08              1.012469e-08   \n",
      "\n",
      "flux : \n",
      "                                      cycle  x  y  CYTDK2  XPPT  HXPRT  NDPK5  \\\n",
      "Gene_inhibition Species culture                                                \n",
      "folA.folP       E0      coculture       25  1  1     0.0   0.0    0.0    0.0   \n",
      "                S0      coculture       25  1  1     0.0   0.0    0.0    0.0   \n",
      "                E0      monoculture     25  1  1     0.0   0.0    0.0    0.0   \n",
      "                S0      monoculture     25  1  1     0.0   0.0    0.0    0.0   \n",
      "\n",
      "                                       SHK3Dr  NDPK6  NDPK8  ...  \\\n",
      "Gene_inhibition Species culture                              ...   \n",
      "folA.folP       E0      coculture    0.042396    0.0    0.0  ...   \n",
      "                S0      coculture    0.099704    0.0    0.0  ...   \n",
      "                E0      monoculture  0.042396    0.0    0.0  ...   \n",
      "                S0      monoculture  0.295397    0.0    0.0  ...   \n",
      "\n",
      "                                           pe2_ST        pg2_ST      clpn2_ST  \\\n",
      "Gene_inhibition Species culture                                                 \n",
      "folA.folP       E0      coculture             NaN           NaN           NaN   \n",
      "                S0      coculture    8.016775e-07  2.199246e-07  7.330820e-09   \n",
      "                E0      monoculture           NaN           NaN           NaN   \n",
      "                S0      monoculture  2.375154e-06  6.515772e-07  2.171924e-08   \n",
      "\n",
      "                                           pa2_ST        ps2_ST     12dgr2_ST  \\\n",
      "Gene_inhibition Species culture                                                 \n",
      "folA.folP       E0      coculture             NaN           NaN           NaN   \n",
      "                S0      coculture    2.094520e-09  2.094520e-09  9.844244e-08   \n",
      "                E0      monoculture           NaN           NaN           NaN   \n",
      "                S0      monoculture  6.205497e-09  6.205497e-09  2.916584e-07   \n",
      "\n",
      "                                       OAL_ST  OA4L_ST   OA5L_ST  OA4VL_ST  \n",
      "Gene_inhibition Species culture                                             \n",
      "folA.folP       E0      coculture         NaN      NaN       NaN       NaN  \n",
      "                S0      coculture    0.000000      0.0  0.000000       0.0  \n",
      "                E0      monoculture       NaN      NaN       NaN       NaN  \n",
      "                S0      monoculture  0.000003      0.0  0.000004       0.0  \n",
      "\n",
      "[4 rows x 3100 columns] \n",
      "\n",
      "growth_rate : \n",
      "                  E0_coculture  S0_coculture  E0_monoculture  S0_monoculture  \\\n",
      "Gene_inhibition                                                               \n",
      "Normal               0.074819      0.040716        0.547661        0.074824   \n",
      "folA.folP            0.000000      0.000000        0.000000        0.000000   \n",
      "\n",
      "                First_gene  E0_monoculture_First_gene  \\\n",
      "Gene_inhibition                                         \n",
      "Normal              Normal                   0.547661   \n",
      "folA.folP             folA                   0.287016   \n",
      "\n",
      "                 S0_monoculture_First_gene Second_gene  \\\n",
      "Gene_inhibition                                          \n",
      "Normal                            0.074824      Normal   \n",
      "folA.folP                         0.040308        folP   \n",
      "\n",
      "                 E0_coculture_Second_gene  S0_coculture_Second_gene  \\\n",
      "Gene_inhibition                                                       \n",
      "Normal                           0.074819                  0.040716   \n",
      "folA.folP                        0.021060                  0.009690   \n",
      "\n",
      "                 E0_monoculture_Second_gene  S0_monoculture_Second_gene  \n",
      "Gene_inhibition                                                          \n",
      "Normal                             0.547661                    0.074824  \n",
      "folA.folP                          0.265734                    0.040718   \n",
      "\n",
      "normalized_growth_rate : \n",
      "                  E0_coculture  S0_coculture  \\\n",
      "Gene_inhibition                               \n",
      "Normal                    1.0           1.0   \n",
      "folA.folP                 0.0           0.0   \n",
      "\n",
      "                 Predicted_additive_effect_E0_coculture  \\\n",
      "Gene_inhibition                                           \n",
      "Normal                                         1.000000   \n",
      "folA.folP                                      0.081808   \n",
      "\n",
      "                 Predicted_additive_effect_S0_coculture  E0_monoculture  \\\n",
      "Gene_inhibition                                                           \n",
      "Normal                                         1.000000             1.0   \n",
      "folA.folP                                      0.057062             0.0   \n",
      "\n",
      "                 S0_monoculture  Predicted_additive_effect_E0_monoculture  \\\n",
      "Gene_inhibition                                                             \n",
      "Normal                      1.0                                   1.00000   \n",
      "folA.folP                   0.0                                   0.25429   \n",
      "\n",
      "                 Predicted_additive_effect_S0_monoculture First_gene  \\\n",
      "Gene_inhibition                                                        \n",
      "Normal                                           1.000000     Normal   \n",
      "folA.folP                                        0.293156       folA   \n",
      "\n",
      "                 E0_monoculture_First_gene  ...  E0_monoculture_Second_gene  \\\n",
      "Gene_inhibition                             ...                               \n",
      "Normal                            1.000000  ...                    1.000000   \n",
      "folA.folP                         0.524075  ...                    0.485216   \n",
      "\n",
      "                S0_monoculture_Second_gene  po_diff_E0_coculture  \\\n",
      "Gene_inhibition                                                    \n",
      "Normal                            1.000000              0.000000   \n",
      "folA.folP                         0.544185             -0.081808   \n",
      "\n",
      "                 po_diff_S0_coculture  po_diff_E0_monoculture  \\\n",
      "Gene_inhibition                                                 \n",
      "Normal                       0.000000                 0.00000   \n",
      "folA.folP                   -0.057062                -0.25429   \n",
      "\n",
      "                 po_diff_S0_monoculture  Drug_comb_effect_E0_coculture  \\\n",
      "Gene_inhibition                                                          \n",
      "Normal                         0.000000                       Additive   \n",
      "folA.folP                     -0.293156                   Antagonistic   \n",
      "\n",
      "                 Drug_comb_effect_S0_coculture  \\\n",
      "Gene_inhibition                                  \n",
      "Normal                                Additive   \n",
      "folA.folP                         Antagonistic   \n",
      "\n",
      "                 Drug_comb_effect_E0_monoculture  \\\n",
      "Gene_inhibition                                    \n",
      "Normal                                  Additive   \n",
      "folA.folP                           Antagonistic   \n",
      "\n",
      "                 Drug_comb_effect_S0_monoculture  \n",
      "Gene_inhibition                                   \n",
      "Normal                                  Additive  \n",
      "folA.folP                           Antagonistic  \n",
      "\n",
      "[2 rows x 24 columns] \n",
      "\n",
      "drug_response_classification : \n",
      "                 Drug_comb_effect_E0_coculture Drug_comb_effect_E0_monoculture  \\\n",
      "Gene_inhibition                                                                 \n",
      "Normal                               Additive                        Additive   \n",
      "folA.folP                        Antagonistic                    Antagonistic   \n",
      "\n",
      "                Drug_comb_effect_S0_coculture Drug_comb_effect_S0_monoculture  \n",
      "Gene_inhibition                                                                \n",
      "Normal                               Additive                        Additive  \n",
      "folA.folP                        Antagonistic                    Antagonistic   \n",
      "\n"
     ]
    },
    {
     "data": {
      "text/plain": [
       "[None, None, None, None, None]"
      ]
     },
     "execution_count": 8,
     "metadata": {},
     "output_type": "execute_result"
    }
   ],
   "source": [
    "[print(k, ': \\n', df.head(), '\\n') for k, df in df_container[('m1', 'DG')].items()]"
   ]
  }
 ],
 "metadata": {
  "kernelspec": {
   "display_name": "vR",
   "language": "python",
   "name": "vr"
  },
  "language_info": {
   "codemirror_mode": {
    "name": "ipython",
    "version": 3
   },
   "file_extension": ".py",
   "mimetype": "text/x-python",
   "name": "python",
   "nbconvert_exporter": "python",
   "pygments_lexer": "ipython3",
   "version": "3.11.5"
  }
 },
 "nbformat": 4,
 "nbformat_minor": 2
}
