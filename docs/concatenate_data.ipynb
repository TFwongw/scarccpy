{
 "cells": [
  {
   "cell_type": "code",
   "execution_count": null,
   "metadata": {},
   "outputs": [],
   "source": [
    "import os\n",
    "import pandas as pd\n",
    "from scarcc.preparation.metabolic_model import BasicModel\n",
    "from scarcc.preparation.find_directory import find_directory \n",
    "from scarcc.data_analysis import (get_biomass_df, get_end_BM, get_carbon_allocation_E_wide)\n",
    "model_directory = find_directory('models', os.path.abspath(''))\n",
    "data_directory = find_directory('Data', os.path.abspath(''))\n",
    "\n",
    "# initialize model\n",
    "E0, S0, all_components = BasicModel(model_directory=model_directory, flux_weighting=True).load_ES_models()\n",
    "flux_path = os.path.join(data_directory, 'checkerboard_flux_snapshot.csv')\n",
    "gr_path = os.path.join(data_directory, 'gr_DG_checkerboard_normalized.csv')\n",
    "gr_df = pd.read_csv(gr_path, index_col=0)\n",
    "alpha_table = pd.read_csv(os.path.join(data_directory, 'checkerboard_alpha_table.csv'), index_col=0)\n",
    "biomass_df = get_biomass_df([os.path.join(data_directory, 'checkerboard_run4.csv')])\n",
    "end_BM = get_end_BM(biomass_df)\n",
    "\n",
    "carbon_allocation_E_wide = get_carbon_allocation_E_wide(E0, all_components, additive_threshold=0.05, flux_analysis_file=flux_path, gr_file=gr_path, end_BM=end_BM)\n",
    "# carbon_allocation_E_wide.to_csv(os.path.join(data_directory, 'carbon_allocation_E_wide_checkerboard.csv'))\n",
    "\n",
    "# add flux full and pathway info"
   ]
  }
 ],
 "metadata": {
  "language_info": {
   "name": "python"
  }
 },
 "nbformat": 4,
 "nbformat_minor": 2
}
