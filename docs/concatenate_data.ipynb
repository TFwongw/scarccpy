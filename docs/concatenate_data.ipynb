{
 "cells": [
  {
   "cell_type": "markdown",
   "metadata": {},
   "source": [
    "# prepare flux data for plotting"
   ]
  },
  {
   "cell_type": "code",
   "execution_count": 1,
   "metadata": {},
   "outputs": [],
   "source": [
    "import os\n",
    "import pandas as pd\n",
    "from scarcc.preparation.metabolic_model import BasicModel\n",
    "from scarcc.preparation.find_directory import find_directory \n",
    "from scarcc.data_analysis import (get_biomass_df, get_end_BM, get_carbon_allocation_E_wide)\n",
    "model_directory = find_directory('models', os.path.abspath(''))\n",
    "data_directory = find_directory('Data', os.path.abspath(''))\n",
    "\n",
    "# initialize model\n",
    "E0, S0, all_components = BasicModel(model_directory=model_directory, flux_weighting=True).load_ES_models()\n",
    "flux_path = os.path.join(data_directory, 'checkerboard_flux_snapshot.csv')\n",
    "gr_path = os.path.join(data_directory, 'gr_DG_checkerboard_normalized.csv')\n",
    "gr_df = pd.read_csv(gr_path, index_col=0)\n",
    "alpha_table = pd.read_csv(os.path.join(data_directory, 'checkerboard_alpha_table.csv'), index_col=0)\n",
    "biomass_df = get_biomass_df([os.path.join(data_directory, 'checkerboard_run4.csv')])\n",
    "end_BM = get_end_BM(biomass_df)\n",
    "\n",
    "carbon_allocation_E_wide = get_carbon_allocation_E_wide(E0, all_components, additive_threshold=0.05, flux_analysis_file=flux_path, gr_file=gr_path, end_BM=end_BM)\n",
    "# carbon_allocation_E_wide.to_csv(os.path.join(data_directory, 'carbon_allocation_E_wide_checkerboard.csv'))\n"
   ]
  },
  {
   "cell_type": "code",
   "execution_count": 1,
   "metadata": {},
   "outputs": [],
   "source": [
    "# Gene combinations run"
   ]
  },
  {
   "cell_type": "code",
   "execution_count": 2,
   "metadata": {},
   "outputs": [],
   "source": [
    "flux_path = os.path.join(data_directory, 'flux_analysis_m1.csv')\n",
    "gr_path = os.path.join(data_directory, 'gr_DG_m1_normalized.csv')\n",
    "gr_df = pd.read_csv(gr_path, index_col=0)\n",
    "alpha_table = pd.read_csv(os.path.join(data_directory, 'alpha_table_m1.csv'), index_col=0)\n",
    "biomass_df_file_list = ['BM_SG_m1.csv', 'BM_DG_m1.csv']\n",
    "biomass_df = get_biomass_df([os.path.join(data_directory, file) for file in biomass_df_file_list])\n",
    "end_BM = get_end_BM(biomass_df)\n",
    "\n",
    "carbon_allocation_E_wide = get_carbon_allocation_E_wide(E0, all_components, additive_threshold=0.05, flux_analysis_file=flux_path, gr_file=gr_path, end_BM=end_BM)\n",
    "carbon_allocation_E_wide.to_csv(os.path.join(data_directory, 'carbon_allocation_E_wide_m1.csv'))"
   ]
  },
  {
   "cell_type": "code",
   "execution_count": 2,
   "metadata": {},
   "outputs": [],
   "source": [
    "# add flux full and pathway info"
   ]
  },
  {
   "cell_type": "code",
   "execution_count": null,
   "metadata": {},
   "outputs": [],
   "source": []
  }
 ],
 "metadata": {
  "kernelspec": {
   "display_name": "vR",
   "language": "python",
   "name": "vr"
  },
  "language_info": {
   "codemirror_mode": {
    "name": "ipython",
    "version": 3
   },
   "file_extension": ".py",
   "mimetype": "text/x-python",
   "name": "python",
   "nbconvert_exporter": "python",
   "pygments_lexer": "ipython3",
   "version": "3.11.5"
  }
 },
 "nbformat": 4,
 "nbformat_minor": 2
}
