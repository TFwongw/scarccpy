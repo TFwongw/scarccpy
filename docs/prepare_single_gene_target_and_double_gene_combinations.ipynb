{
 "cells": [
  {
   "cell_type": "markdown",
   "metadata": {},
   "source": [
    "# Preparing Single Gene Target and Double Gene Combinations"
   ]
  },
  {
   "cell_type": "code",
   "execution_count": 2,
   "metadata": {
    "nbsphinx": "hidden"
   },
   "outputs": [
    {
     "name": "stdout",
     "output_type": "stream",
     "text": [
      "d:\\scarccpy\n"
     ]
    }
   ],
   "source": [
    "%cd .. # comment this line if notebook at the same level as data directory"
   ]
  },
  {
   "cell_type": "code",
   "execution_count": 3,
   "metadata": {},
   "outputs": [],
   "source": [
    "import os\n",
    "from scarcc.preparation.find_directory import find_directory\n",
    "data_directory = find_directory('Data', os.path.abspath(''))"
   ]
  },
  {
   "cell_type": "markdown",
   "metadata": {},
   "source": [
    "## Read double gene from first column of GeneCombos file"
   ]
  },
  {
   "cell_type": "code",
   "execution_count": 4,
   "metadata": {},
   "outputs": [
    {
     "data": {
      "text/plain": [
       "[('dadX', 'aroA'),\n",
       " ('dadX', 'eno'),\n",
       " ('dadX', 'pheA'),\n",
       " ('dadX', 'acnB'),\n",
       " ('aroA', 'dapF')]"
      ]
     },
     "execution_count": 4,
     "metadata": {},
     "output_type": "execute_result"
    }
   ],
   "source": [
    "from scarcc.preparation.target_gene.gene_combination_handler import (get_DG_list, get_SG_list, generate_all_combinations)\n",
    "DG_list = get_DG_list(os.path.join(data_directory, 'GeneCombos.csv'), n_combos=None)\n",
    "DG_list[:5]"
   ]
  },
  {
   "cell_type": "markdown",
   "metadata": {},
   "source": [
    "## Get all single genes from double gene list"
   ]
  },
  {
   "cell_type": "code",
   "execution_count": 5,
   "metadata": {},
   "outputs": [
    {
     "data": {
      "text/plain": [
       "['murA', 'pyrD', 'purT', 'dapD', 'folP', 'ackA', 'pheA', 'dapA', 'eno', 'tktA']"
      ]
     },
     "execution_count": 5,
     "metadata": {},
     "output_type": "execute_result"
    }
   ],
   "source": [
    "SG_list = get_SG_list(DG_list)\n",
    "SG_list[:10]"
   ]
  },
  {
   "cell_type": "code",
   "execution_count": 6,
   "metadata": {},
   "outputs": [
    {
     "name": "stdout",
     "output_type": "stream",
     "text": [
      "There are 465 potential gene combinations\n"
     ]
    },
    {
     "data": {
      "text/plain": [
       "[('murA', 'pyrD'),\n",
       " ('murA', 'purT'),\n",
       " ('murA', 'dapD'),\n",
       " ('murA', 'folP'),\n",
       " ('murA', 'ackA')]"
      ]
     },
     "execution_count": 6,
     "metadata": {},
     "output_type": "execute_result"
    }
   ],
   "source": [
    "potential_DG = generate_all_combinations(SG_list)\n",
    "potential_DG[:5]"
   ]
  },
  {
   "cell_type": "markdown",
   "metadata": {},
   "source": [
    "Since quantity of total gene combinations = $C^n_2$, N = number of target genes\n",
    "\n",
    "Initial screening in FBA could be desired to observe drug combination effect for single species using [COBRA](https://cobrapy.readthedocs.io/en/latest/)"
   ]
  },
  {
   "cell_type": "markdown",
   "metadata": {},
   "source": []
  }
 ],
 "metadata": {
  "kernelspec": {
   "display_name": "vR",
   "language": "python",
   "name": "vr"
  },
  "language_info": {
   "codemirror_mode": {
    "name": "ipython",
    "version": 3
   },
   "file_extension": ".py",
   "mimetype": "text/x-python",
   "name": "python",
   "nbconvert_exporter": "python",
   "pygments_lexer": "ipython3",
   "version": "3.11.5"
  }
 },
 "nbformat": 4,
 "nbformat_minor": 2
}
