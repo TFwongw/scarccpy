{
 "cells": [
  {
   "cell_type": "markdown",
   "metadata": {},
   "source": [
    "# Stoichiometry Scaling"
   ]
  },
  {
   "cell_type": "code",
   "execution_count": 14,
   "metadata": {
    "nbsphinx": "hidden"
   },
   "outputs": [
    {
     "data": {
      "text/html": [
       "<style>\n",
       ".output {\n",
       "    flex-direction: row;\n",
       "}\n",
       "</style>"
      ],
      "text/plain": [
       "<IPython.core.display.HTML object>"
      ]
     },
     "execution_count": 14,
     "metadata": {},
     "output_type": "execute_result"
    }
   ],
   "source": [
    "# hide cell\n",
    "%cd .."
   ]
  },
  {
   "cell_type": "code",
   "execution_count": 32,
   "metadata": {},
   "outputs": [],
   "source": [
    "import pandas as pd\n",
    "import os\n",
    "from scarcc.preparation.find_directory import find_directory\n",
    "from scarcc.preparation.metabolic_model import BasicModel\n",
    "\n",
    "data_directory = find_directory('Data', os.path.abspath(''))\n",
    "model_directory = find_directory('models', os.path.abspath(''))\n",
    "sim_chamber_directory = find_directory('SimChamber', os.path.abspath(''))\n",
    "\n",
    "E0, S0, all_components = BasicModel(flux_weighting=True, model_directory=model_directory).load_ES_models()\n",
    "alpha_table = pd.read_csv(os.path.join(data_directory, 'alpha_table_m1.csv'), index_col=0)"
   ]
  },
  {
   "cell_type": "markdown",
   "metadata": {},
   "source": [
    "This implementation reduce the enzymatic activities controlled by the target gene by $\\alpha$, regardless of duplicated genes controlling the reactions\n",
    "- Irreversible reaction:\n",
    "\n",
    "\\begin{align}\n",
    "A \\rightarrow B \\Rightarrow A \\rightarrow 1/\\alpha \\times B\n",
    "\\end{align}\n",
    "    \n",
    "- Reversible reaction: \n",
    "\n",
    "\\begin{align}\n",
    "A \\leftrightarrow B \\Rightarrow \n",
    "\\begin{cases}\n",
    "A \\rightarrow \\frac{1}{\\alpha} \\times B\\\\\n",
    "\\frac{1}{\\alpha} \\times A \\leftarrow B \n",
    "\\end{cases}\n",
    "\\end{align}\n",
    "\n",
    "<div class=\"alert alert-info\">\n",
    "\n",
    "**Note 1:** Perform scaling within context manager to recover to normal state for new set of gene perturbation\n",
    "\n",
    "</div>\n",
    "\n",
    "<div class=\"alert alert-info\">\n",
    "\n",
    "**Note 2:** This implementation is because of the discrepancy between gene knock out and gene inhibition. In gene knock out, the reaction will remain unaffected in case of gene redundancy, whereas to quantify the inhibitory effect of one antibiotics(e.g. IC50), the gene redundancy is ignored for simplicity\n",
    "\n",
    "</div>"
   ]
  },
  {
   "cell_type": "code",
   "execution_count": 6,
   "metadata": {},
   "outputs": [
    {
     "name": "stdout",
     "output_type": "stream",
     "text": [
      "After: \n",
      "E0:  ['DHFR_v1: 0.01896481730065458 dhf_c + 0.01896481730065458 h_c + 0.01896481730065458 nadph_c <-- nadp_c + thf_c', 'DHFR: dhf_c + h_c + nadph_c --> 0.01896481730065458 nadp_c + 0.01896481730065458 thf_c']\n",
      "S0:  ['DHFR: dhf_c + h_c + nadph_c --> 0.05612262794205336 nadp_c + 0.05612262794205336 thf_c', 'DHFR_v1: 0.05612262794205336 dhf_c + 0.05612262794205336 h_c + 0.05612262794205336 nadph_c <-- nadp_c + thf_c']\n",
      "Before: \n",
      "E0:  ['DHFR: dhf_c + h_c + nadph_c <=> nadp_c + thf_c']\n",
      "S0:  ['DHFR: dhf_c + h_c + nadph_c <=> nadp_c + thf_c']\n"
     ]
    }
   ],
   "source": [
    "alpha_table = pd.read_csv(os.path.join(data_directory, 'alpha_table_m1.csv'), index_col=0)\n",
    "\n",
    "from scarcc.preparation.metabolic_model.core.component import get_gene_id\n",
    "from scarcc.preparation.perturbation import alter_Sij\n",
    "current_gene = 'folA'\n",
    "with E0, S0:\n",
    "    alter_Sij(E0, alphas=alpha_table.loc[current_gene, 'E0'], genes=current_gene, ko=False)\n",
    "    alter_Sij(S0, alphas=alpha_table.loc[current_gene, 'S0'], genes=current_gene, ko=False)\n",
    "\n",
    "    print('After: ')\n",
    "    print('E0: ', [str(rxn) for rxn in E0.genes.get_by_id(get_gene_id(E0, 'folA')).reactions])\n",
    "    print('S0: ', [str(rxn) for rxn in S0.genes.get_by_id(get_gene_id(S0, 'folA')).reactions])\n",
    "print('Before: ')\n",
    "print('E0: ', [str(rxn) for rxn in E0.genes.get_by_id(get_gene_id(E0, 'folA')).reactions])\n",
    "print('S0: ', [str(rxn) for rxn in S0.genes.get_by_id(get_gene_id(S0, 'folA')).reactions])"
   ]
  },
  {
   "cell_type": "markdown",
   "metadata": {},
   "source": [
    "If both target gene in gene combination leads to the inhibition of the same reaction, the inhibition effect to that particular reaction is set to the maximum one rather than scaled twice"
   ]
  },
  {
   "cell_type": "markdown",
   "metadata": {},
   "source": [
    "Example:\n",
    "\n",
    "both sucA and sucB gene encode for AKGDH\n",
    "\n",
    "- Case 1: \n",
    "    - sucA with $\\alpha$ = 10, sucB with $\\alpha$ = 50\n",
    "\n",
    "- Case 2: \n",
    "    - sucA with $\\alpha$ = 50, sucB with $\\alpha$ = 50"
   ]
  },
  {
   "cell_type": "code",
   "execution_count": 57,
   "metadata": {},
   "outputs": [
    {
     "name": "stdout",
     "output_type": "stream",
     "text": [
      "Case 1: \n",
      " E0: ['AKGDH: akg_c + coa_c + nad_c --> 0.020000000000000018 co2_c + 0.020000000000000018 nadh_c + 0.020000000000000018 succoa_c']\n",
      "Case 2: \n",
      " E0: ['AKGDH: akg_c + coa_c + nad_c --> 0.020000000000000018 co2_c + 0.020000000000000018 nadh_c + 0.020000000000000018 succoa_c']\n",
      "Output of Case 1 and Case 2 are the same\n"
     ]
    }
   ],
   "source": [
    "with E0, S0:\n",
    "    alter_Sij(E0, alphas=[10,50], genes=['sucA', 'sucB'], ko=False)\n",
    "\n",
    "    message1 = 'E0: '+ str([str(rxn) for rxn in E0.genes.get_by_id(get_gene_id(E0, 'sucA')).reactions])\n",
    "    print('Case 1: \\n', message1)\n",
    "\n",
    "with E0, S0:\n",
    "    alter_Sij(E0, alphas=[50,50], genes=['sucA', 'sucB'], ko=False)\n",
    "\n",
    "    message2 = 'E0: '+ str([str(rxn) for rxn in E0.genes.get_by_id(get_gene_id(E0, 'sucA')).reactions])\n",
    "    print('Case 2: \\n', message2)\n",
    "\n",
    "if message1 == message2:\n",
    "    print(f'Output of Case 1 and Case 2 are the same')"
   ]
  },
  {
   "cell_type": "code",
   "execution_count": null,
   "metadata": {},
   "outputs": [],
   "source": []
  }
 ],
 "metadata": {
  "kernelspec": {
   "display_name": "vR",
   "language": "python",
   "name": "vr"
  },
  "language_info": {
   "codemirror_mode": {
    "name": "ipython",
    "version": 3
   },
   "file_extension": ".py",
   "mimetype": "text/x-python",
   "name": "python",
   "nbconvert_exporter": "python",
   "pygments_lexer": "ipython3",
   "version": "3.11.5"
  }
 },
 "nbformat": 4,
 "nbformat_minor": 2
}
