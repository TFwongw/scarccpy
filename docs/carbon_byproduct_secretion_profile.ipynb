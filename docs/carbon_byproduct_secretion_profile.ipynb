{
 "cells": [
  {
   "cell_type": "markdown",
   "metadata": {},
   "source": [
    "# Modifying E.coli Carbon Byproduct Secretion Profile\n",
    "\n",
    "This notebook introduce the necessary steps through weighting flux when using parsimonious FBA(pFBA) as optimization method. This approach restricts production of acetate as sole carbon byproduct from E. coli, "
   ]
  },
  {
   "cell_type": "code",
   "execution_count": 1,
   "metadata": {
    "nbsphinx": "hidden"
   },
   "outputs": [
    {
     "name": "stdout",
     "output_type": "stream",
     "text": [
      "d:\\scarccpy\n"
     ]
    }
   ],
   "source": [
    "%cd .."
   ]
  },
  {
   "cell_type": "code",
   "execution_count": 23,
   "metadata": {},
   "outputs": [],
   "source": [
    "import cobra\n",
    "import pandas as pd\n",
    "from cobra.flux_analysis.parsimonious import pfba\n",
    "\n",
    "E0 = cobra.io.read_sbml_model(\"./models/iML1515_E0.xml\")"
   ]
  },
  {
   "cell_type": "code",
   "execution_count": 24,
   "metadata": {},
   "outputs": [],
   "source": [
    "E0.medium = {\n",
    "    'EX_lcts_e': 10,\n",
    "    'EX_met__L_e': .02,\n",
    "    'EX_pi_e': 10,\n",
    "    'EX_fe3_e': 10,\n",
    "    'EX_mn2_e': 10,\n",
    "    'EX_fe2_e': 10,\n",
    "    'EX_zn2_e': 10,\n",
    "    'EX_mg2_e': 10,\n",
    "    'EX_ca2_e': 10,\n",
    "    'EX_ni2_e': 10,\n",
    "    'EX_cu2_e': 10,\n",
    "    'EX_cobalt2_e': 10,\n",
    "    'EX_mobd_e': 10,\n",
    "    'EX_so4_e': 10,\n",
    "    'EX_k_e': 10,\n",
    "    'EX_cl_e': 10,\n",
    "    'EX_o2_e': 10,\n",
    "    'EX_nh4_e': 10}"
   ]
  },
  {
   "cell_type": "markdown",
   "metadata": {},
   "source": [
    "Case without optimize for total flux "
   ]
  },
  {
   "cell_type": "code",
   "execution_count": 25,
   "metadata": {},
   "outputs": [
    {
     "data": {
      "text/plain": [
       "EX_lcts_e                        -4.874831\n",
       "EX_gal_e                          0.000000\n",
       "EX_co2_e                          0.112072\n",
       "EX_ac_e                           0.000000\n",
       "EX_met__L_e                      -0.020000\n",
       "BIOMASS_Ec_iML1515_core_75p37M    0.129945\n",
       "Name: fluxes, dtype: float64"
      ]
     },
     "execution_count": 25,
     "metadata": {},
     "output_type": "execute_result"
    }
   ],
   "source": [
    "E_col = ['EX_lcts_e', 'EX_gal_e','EX_co2_e','EX_ac_e', 'EX_met__L_e','BIOMASS_Ec_iML1515_core_75p37M']\n",
    "fba_sol = E0.optimize().to_frame().T\n",
    "fba_sol.loc['fluxes',E_col]\n"
   ]
  },
  {
   "cell_type": "markdown",
   "metadata": {},
   "source": [
    "Parsimonious FBA"
   ]
  },
  {
   "cell_type": "code",
   "execution_count": 26,
   "metadata": {},
   "outputs": [
    {
     "name": "stdout",
     "output_type": "stream",
     "text": [
      "EX_lcts_e                        -1.214347\n",
      "EX_gal_e                          0.711305\n",
      "EX_co2_e                          4.959373\n",
      "EX_ac_e                           0.055652\n",
      "EX_met__L_e                      -0.020000\n",
      "BIOMASS_Ec_iML1515_core_75p37M    0.129945\n",
      "Name: fluxes, dtype: float64\n"
     ]
    }
   ],
   "source": [
    "psol = pfba(E0).to_frame().T\n",
    "print(psol.loc['fluxes', E_col])"
   ]
  },
  {
   "cell_type": "markdown",
   "metadata": {},
   "source": [
    "Where is lactose broken down?"
   ]
  },
  {
   "cell_type": "code",
   "execution_count": 6,
   "metadata": {},
   "outputs": [
    {
     "name": "stdout",
     "output_type": "stream",
     "text": [
      "LACZpp: h2o_p + lcts_p --> gal_p + glc__D_p 0.7113047581497066\n",
      "LACZ: h2o_c + lcts_c --> gal_c + glc__D_c 0.7113047581497066\n",
      "LCTStpp: h_p + lcts_p --> h_c + lcts_c 0.7113047581497066\n"
     ]
    }
   ],
   "source": [
    "print(str(E0.reactions.get_by_id('LACZpp')), psol.loc['fluxes', 'LACZpp'])\n",
    "print(str(E0.reactions.get_by_id('LACZ')), psol.loc['fluxes', 'LACZpp'])\n",
    "print(str(E0.reactions.get_by_id('LCTStpp')), psol.loc['fluxes', 'LACZpp'])"
   ]
  },
  {
   "cell_type": "markdown",
   "metadata": {},
   "source": [
    "Galactose is secreted because half of lactose is break down in periplasm compartment, as soon as galactose is produced, it become readily to be secreted to extracellular space. Which is undesirable as bacteria rarely secret complex carbon as byproduct.\n",
    "\n",
    "<div class=\"alert alert-info\">\n",
    "\n",
    "**NOTE :** Default FBA solution balances reduced cost for the flux, leading to flux equal quantity flowing through the two availble pathways\n",
    "</div>"
   ]
  },
  {
   "cell_type": "markdown",
   "metadata": {},
   "source": [
    "## Flux weighting\n",
    "\n",
    "We can impose extra cost in the flux secretion for undesirable galactose secretion. \n",
    "\n",
    "For weight = 10,\n",
    "\n",
    "\\begin{align}\n",
    "Unweighted: gal_p \\rightarrow gal_e \\\\\n",
    "Weighted: 0.1 \\times gal_p \\rightarrow 0.1 \\times gal_e\n",
    "\\end{align}\n",
    "\n",
    "- Increasing the cost associated with galactose secretion flux within the parsimonious optimization procedure decreases the likelihood of that flux being utilized.\n",
    "    - To transport 1 unit of gal to extracellular space, Eq. (1) only needs 1 unit of flux\n",
    "    - To transport 1 unit of gal to extracellular space, Eq. (2) needs 10 unit of flux\n",
    "- Weighting the secreting flux in opposite direction for acetate reduce the cost associated with acetate secretion\n",
    "    - fermentation could be more favorable than respiration \n",
    "    - limited supply of methionine in co-culture imply selecting pathway with lower proteomic cost \n",
    "\n",
    "<div class=\"alert alert-info\">\n",
    "\n",
    "**NOTE:** \n",
    "This implementation do not alter functionality of metabolic network. ONLY flux quantity evaluated in pFBA is changed.\n",
    "\n",
    "</div>\n",
    "\n",
    "\n",
    "**COMETS implementation:** \n",
    "\n",
    "Directly changing stoichiometry for exchange reaction is not properly implemented in COMETS. The following implementation is adopted instead\n",
    "\n",
    "For weight w = 10,\n",
    "\n",
    "\\begin{align}\n",
    "Precursor \\quad reactions \\quad producing \\quad gal_p &: A/10 +B/10 \\rightarrow frac\\_gal_p +B/10 \\\\\n",
    "Weighted \\quad secretion \\quad flux &: frac\\_gal_p \\rightarrow frac\\_gal_e \\\\ \n",
    "\\end{align}\n",
    "\n",
    "\\begin{align*}\n",
    "\\text{where } frac\\_gal_p = 0.1 \\times gal_p \\text{ and }  frac\\_gal_e = 0.1 \\times gal_e \n",
    "\\end{align*}\n",
    "\n",
    "Vice versa for w=0.1 $\\Rightarrow$ $bulk\\_ac$ = $10 \\times ac$. Frac and bulk are fraction and bulk count of original compound\n"
   ]
  },
  {
   "cell_type": "markdown",
   "metadata": {},
   "source": [
    "Execution:  \n",
    "\n",
    "class ``BasicModel`` reads model files, allows for flux weighting and renaming metabolites name to ensure the exchange of metabolites are of the same kind in COMETS. Toggle flux_weighting to switch. Get the models by calling ``load_ES_models()``"
   ]
  },
  {
   "cell_type": "code",
   "execution_count": 60,
   "metadata": {},
   "outputs": [
    {
     "name": "stdout",
     "output_type": "stream",
     "text": [
      "gal_scale -0.6666666666666667\n"
     ]
    }
   ],
   "source": [
    "import os\n",
    "from scarcc.preparation.find_directory import find_directory\n",
    "from scarcc.preparation.metabolic_model import BasicModel\n",
    "\n",
    "model_directory = find_directory('models', os.path.abspath(''))\n",
    "E0, S0, all_components = BasicModel(flux_weighting=True, \n",
    "                                    ac_scale=10, # Optional\n",
    "                                    gal_scale=1/3, # Optional\n",
    "                                    model_directory=model_directory).load_ES_models()"
   ]
  },
  {
   "cell_type": "code",
   "execution_count": 8,
   "metadata": {},
   "outputs": [
    {
     "data": {
      "text/plain": [
       "('ACt2rpp: 0.9999999999999998 bulk_ac_p + 10.0 h_p <=> 10.0 ac_c + 10.0 h_c',\n",
       " 'EX_bulk_ac_e: bulk_ac_e --> ')"
      ]
     },
     "execution_count": 8,
     "metadata": {},
     "output_type": "execute_result"
    }
   ],
   "source": [
    "str(E0.reactions.ACt2rpp), str(E0.reactions.EX_bulk_ac_e)"
   ]
  },
  {
   "cell_type": "markdown",
   "metadata": {},
   "source": [
    "## Secretion profiles after flux weighting"
   ]
  },
  {
   "cell_type": "code",
   "execution_count": 32,
   "metadata": {},
   "outputs": [
    {
     "data": {
      "text/plain": [
       "EX_lcts_e                        -2.612578\n",
       "EX_gal_e                          0.000000\n",
       "EX_co2_e                          0.000000\n",
       "EX_ac_e                           0.055652\n",
       "EX_met__L_e                      -0.020000\n",
       "BIOMASS_Ec_iML1515_core_75p37M    0.129945\n",
       "Name: fluxes, dtype: float64"
      ]
     },
     "execution_count": 32,
     "metadata": {},
     "output_type": "execute_result"
    }
   ],
   "source": [
    "E_col_w = ['EX_lcts_e', 'EX_gal_e','EX_co2_e','EX_bulk_ac_e', 'EX_met__L_e','BIOMASS_Ec_iML1515_core_75p37M']\n",
    "fba_sol_w = E0.optimize().to_frame().T\n",
    "psol_w =pfba(E0).to_frame().T\n",
    "print(psol_w.loc['fluxes', E_col_w])"
   ]
  },
  {
   "cell_type": "code",
   "execution_count": 59,
   "metadata": {},
   "outputs": [
    {
     "data": {
      "text/html": [
       "<div>\n",
       "<style scoped>\n",
       "    .dataframe tbody tr th:only-of-type {\n",
       "        vertical-align: middle;\n",
       "    }\n",
       "\n",
       "    .dataframe tbody tr th {\n",
       "        vertical-align: top;\n",
       "    }\n",
       "\n",
       "    .dataframe thead th {\n",
       "        text-align: right;\n",
       "    }\n",
       "</style>\n",
       "<table border=\"1\" class=\"dataframe\">\n",
       "  <thead>\n",
       "    <tr style=\"text-align: right;\">\n",
       "      <th></th>\n",
       "      <th>EX_lcts_e</th>\n",
       "      <th>EX_gal_e</th>\n",
       "      <th>EX_co2_e</th>\n",
       "      <th>EX_ac_e</th>\n",
       "      <th>EX_met__L_e</th>\n",
       "      <th>BIOMASS_Ec_iML1515_core_75p37M</th>\n",
       "      <th>EX_bulk_ac_e</th>\n",
       "    </tr>\n",
       "  </thead>\n",
       "  <tbody>\n",
       "    <tr>\n",
       "      <th>pfba without flux weighting</th>\n",
       "      <td>-1.214347</td>\n",
       "      <td>0.711305</td>\n",
       "      <td>4.959373</td>\n",
       "      <td>0.055652</td>\n",
       "      <td>-0.02</td>\n",
       "      <td>0.129945</td>\n",
       "      <td>NaN</td>\n",
       "    </tr>\n",
       "    <tr>\n",
       "      <th>pfba with flux weighting</th>\n",
       "      <td>-1.208707</td>\n",
       "      <td>0.000000</td>\n",
       "      <td>4.022391</td>\n",
       "      <td>NaN</td>\n",
       "      <td>-0.02</td>\n",
       "      <td>0.129945</td>\n",
       "      <td>0.261813</td>\n",
       "    </tr>\n",
       "  </tbody>\n",
       "</table>\n",
       "</div>"
      ],
      "text/plain": [
       "                             EX_lcts_e  EX_gal_e  EX_co2_e   EX_ac_e  \\\n",
       "pfba without flux weighting  -1.214347  0.711305  4.959373  0.055652   \n",
       "pfba with flux weighting     -1.208707  0.000000  4.022391       NaN   \n",
       "\n",
       "                             EX_met__L_e  BIOMASS_Ec_iML1515_core_75p37M  \\\n",
       "pfba without flux weighting        -0.02                        0.129945   \n",
       "pfba with flux weighting           -0.02                        0.129945   \n",
       "\n",
       "                             EX_bulk_ac_e  \n",
       "pfba without flux weighting           NaN  \n",
       "pfba with flux weighting         0.261813  "
      ]
     },
     "execution_count": 59,
     "metadata": {},
     "output_type": "execute_result"
    }
   ],
   "source": [
    "compare_pfba = pd.concat([psol.loc[['fluxes'], E_col], psol_w.loc[['fluxes'], E_col_w]])\n",
    "compare_pfba.index = ['pfba without flux weighting', 'pfba with flux weighting']\n",
    "compare_pfba"
   ]
  },
  {
   "cell_type": "markdown",
   "metadata": {},
   "source": [
    "Acetate quantity after implementing flux weighting increase from 0.0557 to 2.6 molecules. Galactose secretion flux vanished"
   ]
  },
  {
   "cell_type": "code",
   "execution_count": null,
   "metadata": {},
   "outputs": [],
   "source": []
  }
 ],
 "metadata": {
  "kernelspec": {
   "display_name": "scar",
   "language": "python",
   "name": "python3"
  },
  "language_info": {
   "codemirror_mode": {
    "name": "ipython",
    "version": 3
   },
   "file_extension": ".py",
   "mimetype": "text/x-python",
   "name": "python",
   "nbconvert_exporter": "python",
   "pygments_lexer": "ipython3",
   "version": "3.12.1"
  }
 },
 "nbformat": 4,
 "nbformat_minor": 2
}
