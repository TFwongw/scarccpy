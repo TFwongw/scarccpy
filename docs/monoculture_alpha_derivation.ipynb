{
 "cells": [
  {
   "cell_type": "markdown",
   "metadata": {},
   "source": [
    "# Generation of alpha table "
   ]
  },
  {
   "cell_type": "code",
   "execution_count": 5,
   "metadata": {},
   "outputs": [],
   "source": [
    "import os\n",
    "import pandas as pd\n",
    "\n",
    "from scarcc.preparation.metabolic_model import BasicModel\n",
    "from scarcc.preparation.find_directory import find_directory \n",
    "from scarcc.preparation.perturbation.alpha_finder.monoculture import get_div_obj_df\n",
    "\n",
    "# read potential genes\n",
    "potential_genes = ['folA']\n",
    "\n",
    "# get file directory \n",
    "model_directory = find_directory('models', os.path.abspath(''))\n",
    "data_directory = find_directory('Data', os.path.abspath(''))\n",
    "\n",
    "# initialize model\n",
    "E0, S0, all_components = BasicModel(model_directory=model_directory, flux_weighting=True).load_ES_models()"
   ]
  },
  {
   "cell_type": "markdown",
   "metadata": {},
   "source": [
    "Detailed dataframe with flux value and perturbed reaction information"
   ]
  },
  {
   "cell_type": "code",
   "execution_count": 6,
   "metadata": {},
   "outputs": [
    {
     "name": "stdout",
     "output_type": "stream",
     "text": [
      "folA in cal\n",
      "folA in cal\n"
     ]
    },
    {
     "data": {
      "text/html": [
       "<div>\n",
       "<style scoped>\n",
       "    .dataframe tbody tr th:only-of-type {\n",
       "        vertical-align: middle;\n",
       "    }\n",
       "\n",
       "    .dataframe tbody tr th {\n",
       "        vertical-align: top;\n",
       "    }\n",
       "\n",
       "    .dataframe thead th {\n",
       "        text-align: right;\n",
       "    }\n",
       "</style>\n",
       "<table border=\"1\" class=\"dataframe\">\n",
       "  <thead>\n",
       "    <tr style=\"text-align: right;\">\n",
       "      <th></th>\n",
       "      <th>E0_alpha</th>\n",
       "      <th>E0_biomass</th>\n",
       "      <th>E0_Normalized_biomass</th>\n",
       "      <th>E0_forward_reactions_id</th>\n",
       "      <th>E0_forward_reactions</th>\n",
       "      <th>E0_forward_flux_values</th>\n",
       "      <th>E0_opposite_reactions</th>\n",
       "      <th>E0_opposite_flux_values</th>\n",
       "      <th>E0_Net_Flux_Boolean</th>\n",
       "      <th>E0_Net_Flux</th>\n",
       "      <th>...</th>\n",
       "      <th>S0_biomass</th>\n",
       "      <th>S0_Normalized_biomass</th>\n",
       "      <th>S0_forward_reactions_id</th>\n",
       "      <th>S0_forward_reactions</th>\n",
       "      <th>S0_forward_flux_values</th>\n",
       "      <th>S0_opposite_reactions</th>\n",
       "      <th>S0_opposite_flux_values</th>\n",
       "      <th>S0_Net_Flux_Boolean</th>\n",
       "      <th>S0_Net_Flux</th>\n",
       "      <th>S0_is_growth_switch</th>\n",
       "    </tr>\n",
       "    <tr>\n",
       "      <th>Gene_inhibition</th>\n",
       "      <th></th>\n",
       "      <th></th>\n",
       "      <th></th>\n",
       "      <th></th>\n",
       "      <th></th>\n",
       "      <th></th>\n",
       "      <th></th>\n",
       "      <th></th>\n",
       "      <th></th>\n",
       "      <th></th>\n",
       "      <th></th>\n",
       "      <th></th>\n",
       "      <th></th>\n",
       "      <th></th>\n",
       "      <th></th>\n",
       "      <th></th>\n",
       "      <th></th>\n",
       "      <th></th>\n",
       "      <th></th>\n",
       "      <th></th>\n",
       "      <th></th>\n",
       "    </tr>\n",
       "  </thead>\n",
       "  <tbody>\n",
       "    <tr>\n",
       "      <th>folA</th>\n",
       "      <td>58.253555</td>\n",
       "      <td>0.161827</td>\n",
       "      <td>0.474851</td>\n",
       "      <td>DHFR, DHFR_v1</td>\n",
       "      <td>DHFR: dhf_c + h_c + nadph_c --&gt; 0.017166334404...</td>\n",
       "      <td>[0.25297]</td>\n",
       "      <td>DHFR_v1: 0.017166334404217554 dhf_c + 0.017166...</td>\n",
       "      <td>[0.0]</td>\n",
       "      <td>Net Flux</td>\n",
       "      <td>0.25297</td>\n",
       "      <td>...</td>\n",
       "      <td>0.074198</td>\n",
       "      <td>0.478703</td>\n",
       "      <td>DHFR, DHFR_v1</td>\n",
       "      <td>DHFR: dhf_c + h_c + nadph_c --&gt; 0.049797696856...</td>\n",
       "      <td>[0.11344]</td>\n",
       "      <td>DHFR_v1: 0.04979769685652036 dhf_c + 0.0497976...</td>\n",
       "      <td>[0.0]</td>\n",
       "      <td>Net Flux</td>\n",
       "      <td>0.11344</td>\n",
       "      <td>False</td>\n",
       "    </tr>\n",
       "  </tbody>\n",
       "</table>\n",
       "<p>1 rows × 22 columns</p>\n",
       "</div>"
      ],
      "text/plain": [
       "                  E0_alpha  E0_biomass  E0_Normalized_biomass  \\\n",
       "Gene_inhibition                                                 \n",
       "folA             58.253555    0.161827               0.474851   \n",
       "\n",
       "                E0_forward_reactions_id  \\\n",
       "Gene_inhibition                           \n",
       "folA                      DHFR, DHFR_v1   \n",
       "\n",
       "                                              E0_forward_reactions  \\\n",
       "Gene_inhibition                                                      \n",
       "folA             DHFR: dhf_c + h_c + nadph_c --> 0.017166334404...   \n",
       "\n",
       "                E0_forward_flux_values  \\\n",
       "Gene_inhibition                          \n",
       "folA                         [0.25297]   \n",
       "\n",
       "                                             E0_opposite_reactions  \\\n",
       "Gene_inhibition                                                      \n",
       "folA             DHFR_v1: 0.017166334404217554 dhf_c + 0.017166...   \n",
       "\n",
       "                E0_opposite_flux_values E0_Net_Flux_Boolean  E0_Net_Flux  ...  \\\n",
       "Gene_inhibition                                                           ...   \n",
       "folA                              [0.0]            Net Flux      0.25297  ...   \n",
       "\n",
       "                 S0_biomass  S0_Normalized_biomass  S0_forward_reactions_id  \\\n",
       "Gene_inhibition                                                               \n",
       "folA               0.074198               0.478703            DHFR, DHFR_v1   \n",
       "\n",
       "                                              S0_forward_reactions  \\\n",
       "Gene_inhibition                                                      \n",
       "folA             DHFR: dhf_c + h_c + nadph_c --> 0.049797696856...   \n",
       "\n",
       "                S0_forward_flux_values  \\\n",
       "Gene_inhibition                          \n",
       "folA                         [0.11344]   \n",
       "\n",
       "                                             S0_opposite_reactions  \\\n",
       "Gene_inhibition                                                      \n",
       "folA             DHFR_v1: 0.04979769685652036 dhf_c + 0.0497976...   \n",
       "\n",
       "                S0_opposite_flux_values S0_Net_Flux_Boolean S0_Net_Flux  \\\n",
       "Gene_inhibition                                                           \n",
       "folA                              [0.0]            Net Flux     0.11344   \n",
       "\n",
       "                S0_is_growth_switch  \n",
       "Gene_inhibition                      \n",
       "folA                          False  \n",
       "\n",
       "[1 rows x 22 columns]"
      ]
     },
     "execution_count": 6,
     "metadata": {},
     "output_type": "execute_result"
    }
   ],
   "source": [
    "df_detailed = get_div_obj_df([E0, S0], target_obj_val=0.5, potential_genes=potential_genes, precision=2, detailed_alpha_table=True)\n",
    "df_detailed"
   ]
  },
  {
   "cell_type": "markdown",
   "metadata": {},
   "source": [
    "alpha_table with only alpha and the normalized biomass"
   ]
  },
  {
   "cell_type": "code",
   "execution_count": 7,
   "metadata": {},
   "outputs": [
    {
     "name": "stdout",
     "output_type": "stream",
     "text": [
      "folA in cal\n",
      "folA in cal\n"
     ]
    },
    {
     "data": {
      "text/html": [
       "<div>\n",
       "<style scoped>\n",
       "    .dataframe tbody tr th:only-of-type {\n",
       "        vertical-align: middle;\n",
       "    }\n",
       "\n",
       "    .dataframe tbody tr th {\n",
       "        vertical-align: top;\n",
       "    }\n",
       "\n",
       "    .dataframe thead th {\n",
       "        text-align: right;\n",
       "    }\n",
       "</style>\n",
       "<table border=\"1\" class=\"dataframe\">\n",
       "  <thead>\n",
       "    <tr style=\"text-align: right;\">\n",
       "      <th></th>\n",
       "      <th>E0_alpha</th>\n",
       "      <th>E0_Normalized_biomass</th>\n",
       "      <th>S0_alpha</th>\n",
       "      <th>S0_Normalized_biomass</th>\n",
       "    </tr>\n",
       "    <tr>\n",
       "      <th>Gene_inhibition</th>\n",
       "      <th></th>\n",
       "      <th></th>\n",
       "      <th></th>\n",
       "      <th></th>\n",
       "    </tr>\n",
       "  </thead>\n",
       "  <tbody>\n",
       "    <tr>\n",
       "      <th>folA</th>\n",
       "      <td>58.253555</td>\n",
       "      <td>0.474851</td>\n",
       "      <td>20.08125</td>\n",
       "      <td>0.478703</td>\n",
       "    </tr>\n",
       "  </tbody>\n",
       "</table>\n",
       "</div>"
      ],
      "text/plain": [
       "                  E0_alpha  E0_Normalized_biomass  S0_alpha  \\\n",
       "Gene_inhibition                                               \n",
       "folA             58.253555               0.474851  20.08125   \n",
       "\n",
       "                 S0_Normalized_biomass  \n",
       "Gene_inhibition                         \n",
       "folA                          0.478703  "
      ]
     },
     "execution_count": 7,
     "metadata": {},
     "output_type": "execute_result"
    }
   ],
   "source": [
    "alpha_table = get_div_obj_df([E0, S0], target_obj_val=0.5, potential_genes=potential_genes, precision=2, detailed_alpha_table=False)\n",
    "alpha_table"
   ]
  },
  {
   "cell_type": "markdown",
   "metadata": {},
   "source": [
    "Or subset with the same function by passing the detailed dataframe as argument "
   ]
  },
  {
   "cell_type": "code",
   "execution_count": 10,
   "metadata": {},
   "outputs": [
    {
     "data": {
      "text/html": [
       "<div>\n",
       "<style scoped>\n",
       "    .dataframe tbody tr th:only-of-type {\n",
       "        vertical-align: middle;\n",
       "    }\n",
       "\n",
       "    .dataframe tbody tr th {\n",
       "        vertical-align: top;\n",
       "    }\n",
       "\n",
       "    .dataframe thead th {\n",
       "        text-align: right;\n",
       "    }\n",
       "</style>\n",
       "<table border=\"1\" class=\"dataframe\">\n",
       "  <thead>\n",
       "    <tr style=\"text-align: right;\">\n",
       "      <th></th>\n",
       "      <th>E0_alpha</th>\n",
       "      <th>E0_Normalized_biomass</th>\n",
       "      <th>S0_alpha</th>\n",
       "      <th>S0_Normalized_biomass</th>\n",
       "    </tr>\n",
       "    <tr>\n",
       "      <th>Gene_inhibition</th>\n",
       "      <th></th>\n",
       "      <th></th>\n",
       "      <th></th>\n",
       "      <th></th>\n",
       "    </tr>\n",
       "  </thead>\n",
       "  <tbody>\n",
       "    <tr>\n",
       "      <th>folA</th>\n",
       "      <td>58.253555</td>\n",
       "      <td>0.474851</td>\n",
       "      <td>20.08125</td>\n",
       "      <td>0.478703</td>\n",
       "    </tr>\n",
       "  </tbody>\n",
       "</table>\n",
       "</div>"
      ],
      "text/plain": [
       "                  E0_alpha  E0_Normalized_biomass  S0_alpha  \\\n",
       "Gene_inhibition                                               \n",
       "folA             58.253555               0.474851  20.08125   \n",
       "\n",
       "                 S0_Normalized_biomass  \n",
       "Gene_inhibition                         \n",
       "folA                          0.478703  "
      ]
     },
     "execution_count": 10,
     "metadata": {},
     "output_type": "execute_result"
    }
   ],
   "source": [
    "get_div_obj_df(div_obj_df=df_detailed)"
   ]
  },
  {
   "cell_type": "markdown",
   "metadata": {},
   "source": [
    "Store alpha_table into Data directory"
   ]
  },
  {
   "cell_type": "code",
   "execution_count": null,
   "metadata": {},
   "outputs": [],
   "source": [
    "alpha_table.to_csv(os.path.join(data_directory, 'alpha_table_test.csv'))"
   ]
  }
 ],
 "metadata": {
  "kernelspec": {
   "display_name": "vR",
   "language": "python",
   "name": "vr"
  },
  "language_info": {
   "codemirror_mode": {
    "name": "ipython",
    "version": 3
   },
   "file_extension": ".py",
   "mimetype": "text/x-python",
   "name": "python",
   "nbconvert_exporter": "python",
   "pygments_lexer": "ipython3",
   "version": "3.11.5"
  }
 },
 "nbformat": 4,
 "nbformat_minor": 2
}
