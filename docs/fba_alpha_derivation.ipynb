{
 "cells": [
  {
   "cell_type": "markdown",
   "metadata": {},
   "source": [
    "# Deriving Alpha Table from FBA\n"
   ]
  },
  {
   "cell_type": "code",
   "execution_count": 1,
   "metadata": {
    "nbsphinx": "hidden"
   },
   "outputs": [
    {
     "name": "stdout",
     "output_type": "stream",
     "text": [
      "d:\\scarccpy\n"
     ]
    }
   ],
   "source": [
    "%cd .."
   ]
  },
  {
   "cell_type": "code",
   "execution_count": 2,
   "metadata": {},
   "outputs": [],
   "source": [
    "import os\n",
    "import pandas as pd\n",
    "\n",
    "from scarcc.preparation.metabolic_model import BasicModel\n",
    "from scarcc.preparation.find_directory import find_directory \n",
    "from scarcc.preparation.target_gene.gene_combination_handler import get_DG_list, get_SG_list\n",
    "\n",
    "# get file directory \n",
    "model_directory = find_directory('models', os.path.abspath(''))\n",
    "data_directory = find_directory('Data', os.path.abspath(''))\n",
    "\n",
    "# initialize model\n",
    "E0, S0, all_components = BasicModel(model_directory=model_directory, flux_weighting=False).load_ES_models()\n",
    "DG_list = get_DG_list(os.path.join(data_directory, 'GeneCombos.csv'), n_combos=None)\n",
    "SG_list = get_SG_list(DG_list)"
   ]
  },
  {
   "cell_type": "markdown",
   "metadata": {},
   "source": [
    "## Search for $\\alpha$ that corresponds to IC50\n"
   ]
  },
  {
   "cell_type": "markdown",
   "metadata": {},
   "source": [
    "Class ``MonocultureAlphaFinder`` is responsible for finding the alpha values the corresponds to the IC50 dosage(default) of antibiotics, given a target gene and the metabolic model. Which is based on the reduction in biomaffss flux as the objective function to be evaluated.\n",
    "\n",
    "Steps for deriving the appropriate alpha:\n",
    "1. Assign medium for each species\n",
    "2. Program will iteratively search for the $\\alpha$ such that the normalized biomass flux is within threshold around ``target_normalized_biomass`` = 0.5\n",
    "3. Conditions for stop searching\n",
    "    - Convergence of biomass flux around target_normalized_biomass\n",
    "    - Reached desired $\\alpha$ precision\n",
    "    - Maximum iteration\n",
    "\n",
    "<div class=\"alert alert-info\">\n",
    "**NOTE :**\n",
    "Non-essential genes are assigned with values 100000, which ensures no flux will went through that reaction even if it is non-essential, this measures allows for synergism through blockage of pathway and change in metabolic flux pattern\n",
    "</div>\n"
   ]
  },
  {
   "cell_type": "markdown",
   "metadata": {},
   "source": [
    "Minimum arguments for construction of ``MonocultureAlphaFinder``: ``model`` and ``current_gene``\n",
    "\n",
    "They are automatically handled in ``get_alpha_biomass_df`` when given model_list and desired gene lists, see section \"Production of alpha_table\""
   ]
  },
  {
   "cell_type": "code",
   "execution_count": 40,
   "metadata": {},
   "outputs": [
    {
     "name": "stdout",
     "output_type": "stream",
     "text": [
      "alpha: 0    62.28375\n",
      "Name: E0_alpha, dtype: float64 Normalized biomass 0    0.500011\n",
      "Name: E0_Normalized_biomass, dtype: float64                                                                          0\n",
      "E0_alpha                                                          62.28375\n",
      "E0_biomass                                                         0.21007\n",
      "E0_Normalized_biomass                                             0.500011\n",
      "E0_forward_reactions_id                                      DHFR, DHFR_v1\n",
      "E0_forward_reactions     DHFR: dhf_c + h_c + nadph_c --> 0.016055552210...\n",
      "E0_forward_flux_values                                           [0.35111]\n",
      "E0_opposite_reactions    DHFR_v1: 0.016055552210648805 dhf_c + 0.016055...\n",
      "E0_opposite_flux_values                                              [0.0]\n",
      "E0_Net_Flux_Boolean                                               Net Flux\n",
      "E0_Net_Flux                                                        0.35111\n",
      "E0_is_growth_switch                                                  False\n",
      "Gene_inhibition                                                       folA\n"
     ]
    }
   ],
   "source": [
    "from scarcc.preparation.perturbation.alpha_finder.monoculture import MonocultureAlphaFinder\n",
    "ma = MonocultureAlphaFinder(model=E0, current_gene='folA')\n",
    "alpha, norm_bm, summary = ma.find_feasible_alpha()\n",
    "print('alpha:', alpha, 'Normalized biomass', norm_bm, 'Flux summary', summary.T)"
   ]
  },
  {
   "cell_type": "markdown",
   "metadata": {},
   "source": [
    "Arguments Customization  "
   ]
  },
  {
   "cell_type": "code",
   "execution_count": 46,
   "metadata": {},
   "outputs": [],
   "source": [
    "maf_kwargs = {\n",
    "    'model': E0, \n",
    "    'current_gene': 'folA', # target_gene\n",
    "    'target_normalized_biomass': 0.5, # desired normalized biomass flux \n",
    "    'exp_leap': 2, # raise alpha to the power of exp_leap in next search step\n",
    "    'precision': 2, # precision of optimal alpha, stop search when reaching this precision\n",
    "    'acceptance_threshold_lower': 1, # lower bound of desired normalized biomass flux: target_normalized_biomass*acceptance_threshold_lower\n",
    "    'acceptance_threshold_upper': 1.1, # upper bound of desired normalized biomass flux: target_normalized_biomass*acceptance_threshold_upper\n",
    "    'search_alpha': 1.02, # initial alpha to start search\n",
    "    'iter_max': 25 # maximum number of iterations before stopping search\n",
    "    }\n",
    "maf = MonocultureAlphaFinder(**maf_kwargs)\n",
    "alpha, norm_bm, summary = maf.find_feasible_alpha()"
   ]
  },
  {
   "cell_type": "markdown",
   "metadata": {},
   "source": [
    "## Production of alpha_table\n",
    "Integration of results with given list of models and potential target genes provided, ``get_alpha_biomass_df`` automatically pass each to ``MonocultureAlphaFinder`` and produce a complete alpha_table_m1\n",
    "\n",
    "<div class=\"alert alert-info\">\n",
    "**Note :** Keys ``model`` and ``current_genes``  should not be included in ``maf_kwargs``\n",
    "</div>"
   ]
  },
  {
   "cell_type": "code",
   "execution_count": null,
   "metadata": {},
   "outputs": [
    {
     "name": "stdout",
     "output_type": "stream",
     "text": [
      "alpha_table_m1.csv is saved in d:\\scarccpy\\Data\n"
     ]
    },
    {
     "data": {
      "text/html": [
       "<div>\n",
       "<style scoped>\n",
       "    .dataframe tbody tr th:only-of-type {\n",
       "        vertical-align: middle;\n",
       "    }\n",
       "\n",
       "    .dataframe tbody tr th {\n",
       "        vertical-align: top;\n",
       "    }\n",
       "\n",
       "    .dataframe thead th {\n",
       "        text-align: right;\n",
       "    }\n",
       "</style>\n",
       "<table border=\"1\" class=\"dataframe\">\n",
       "  <thead>\n",
       "    <tr style=\"text-align: right;\">\n",
       "      <th></th>\n",
       "      <th>E0_alpha</th>\n",
       "      <th>E0_Normalized_biomass</th>\n",
       "      <th>S0_alpha</th>\n",
       "      <th>S0_Normalized_biomass</th>\n",
       "      <th>E0_response</th>\n",
       "      <th>S0_response</th>\n",
       "    </tr>\n",
       "    <tr>\n",
       "      <th>Gene_inhibition</th>\n",
       "      <th></th>\n",
       "      <th></th>\n",
       "      <th></th>\n",
       "      <th></th>\n",
       "      <th></th>\n",
       "      <th></th>\n",
       "    </tr>\n",
       "  </thead>\n",
       "  <tbody>\n",
       "    <tr>\n",
       "      <th>folA</th>\n",
       "      <td>62.283750</td>\n",
       "      <td>0.500011</td>\n",
       "      <td>19.698750</td>\n",
       "      <td>0.500092</td>\n",
       "      <td>Essential or Phenotype</td>\n",
       "      <td>Essential or Phenotype</td>\n",
       "    </tr>\n",
       "    <tr>\n",
       "      <th>argD</th>\n",
       "      <td>11.793750</td>\n",
       "      <td>0.499911</td>\n",
       "      <td>8.494688</td>\n",
       "      <td>0.499914</td>\n",
       "      <td>Essential or Phenotype</td>\n",
       "      <td>Essential or Phenotype</td>\n",
       "    </tr>\n",
       "    <tr>\n",
       "      <th>tktA</th>\n",
       "      <td>27.540000</td>\n",
       "      <td>0.499759</td>\n",
       "      <td>17.276250</td>\n",
       "      <td>0.500377</td>\n",
       "      <td>Essential or Phenotype</td>\n",
       "      <td>Essential or Phenotype</td>\n",
       "    </tr>\n",
       "    <tr>\n",
       "      <th>pheA</th>\n",
       "      <td>6.916875</td>\n",
       "      <td>0.500100</td>\n",
       "      <td>6.371016</td>\n",
       "      <td>0.500089</td>\n",
       "      <td>Essential or Phenotype</td>\n",
       "      <td>Essential or Phenotype</td>\n",
       "    </tr>\n",
       "    <tr>\n",
       "      <th>rffG</th>\n",
       "      <td>100000.000000</td>\n",
       "      <td>1.000000</td>\n",
       "      <td>119.658750</td>\n",
       "      <td>0.500014</td>\n",
       "      <td>Non_essential</td>\n",
       "      <td>Essential or Phenotype</td>\n",
       "    </tr>\n",
       "  </tbody>\n",
       "</table>\n",
       "</div>"
      ],
      "text/plain": [
       "                      E0_alpha  E0_Normalized_biomass    S0_alpha  \\\n",
       "Gene_inhibition                                                     \n",
       "folA                 62.283750               0.500011   19.698750   \n",
       "argD                 11.793750               0.499911    8.494688   \n",
       "tktA                 27.540000               0.499759   17.276250   \n",
       "pheA                  6.916875               0.500100    6.371016   \n",
       "rffG             100000.000000               1.000000  119.658750   \n",
       "\n",
       "                 S0_Normalized_biomass             E0_response  \\\n",
       "Gene_inhibition                                                  \n",
       "folA                          0.500092  Essential or Phenotype   \n",
       "argD                          0.499914  Essential or Phenotype   \n",
       "tktA                          0.500377  Essential or Phenotype   \n",
       "pheA                          0.500089  Essential or Phenotype   \n",
       "rffG                          0.500014           Non_essential   \n",
       "\n",
       "                            S0_response  \n",
       "Gene_inhibition                          \n",
       "folA             Essential or Phenotype  \n",
       "argD             Essential or Phenotype  \n",
       "tktA             Essential or Phenotype  \n",
       "pheA             Essential or Phenotype  \n",
       "rffG             Essential or Phenotype  "
      ]
     },
     "metadata": {},
     "output_type": "display_data"
    }
   ],
   "source": [
    "from scarcc.preparation.perturbation.alpha_finder.monoculture import get_alpha_biomass_df\n",
    "maf_kwargs = {\n",
    "            'target_normalized_biomass': 0.5,\n",
    "            'potential_genes': SG_list[:5], \n",
    "            'precision': 2,\n",
    "            'acceptance_threshold_lower': 1}\n",
    "# default detailed_alpha_table=False \n",
    "alpha_table = get_alpha_biomass_df(model_list = [E0, S0], data_directory=data_directory, **maf_kwargs)\n",
    "alpha_table.head()"
   ]
  },
  {
   "cell_type": "markdown",
   "metadata": {},
   "source": [
    "rffG is non_essential and alpha is set to 100000"
   ]
  },
  {
   "cell_type": "code",
   "execution_count": 56,
   "metadata": {},
   "outputs": [
    {
     "data": {
      "text/html": [
       "<div>\n",
       "<style scoped>\n",
       "    .dataframe tbody tr th:only-of-type {\n",
       "        vertical-align: middle;\n",
       "    }\n",
       "\n",
       "    .dataframe tbody tr th {\n",
       "        vertical-align: top;\n",
       "    }\n",
       "\n",
       "    .dataframe thead th {\n",
       "        text-align: right;\n",
       "    }\n",
       "</style>\n",
       "<table border=\"1\" class=\"dataframe\">\n",
       "  <thead>\n",
       "    <tr style=\"text-align: right;\">\n",
       "      <th></th>\n",
       "      <th>E0_alpha</th>\n",
       "      <th>E0_Normalized_biomass</th>\n",
       "      <th>S0_alpha</th>\n",
       "      <th>S0_Normalized_biomass</th>\n",
       "      <th>E0_response</th>\n",
       "      <th>S0_response</th>\n",
       "    </tr>\n",
       "    <tr>\n",
       "      <th>Gene_inhibition</th>\n",
       "      <th></th>\n",
       "      <th></th>\n",
       "      <th></th>\n",
       "      <th></th>\n",
       "      <th></th>\n",
       "      <th></th>\n",
       "    </tr>\n",
       "  </thead>\n",
       "  <tbody>\n",
       "    <tr>\n",
       "      <th>gltD</th>\n",
       "      <td>1.1475</td>\n",
       "      <td>0.500403</td>\n",
       "      <td>100000.0</td>\n",
       "      <td>1.0</td>\n",
       "      <td>Essential or Phenotype</td>\n",
       "      <td>Non_essential</td>\n",
       "    </tr>\n",
       "  </tbody>\n",
       "</table>\n",
       "</div>"
      ],
      "text/plain": [
       "                 E0_alpha  E0_Normalized_biomass  S0_alpha  \\\n",
       "Gene_inhibition                                              \n",
       "gltD               1.1475               0.500403  100000.0   \n",
       "\n",
       "                 S0_Normalized_biomass             E0_response    S0_response  \n",
       "Gene_inhibition                                                                \n",
       "gltD                               1.0  Essential or Phenotype  Non_essential  "
      ]
     },
     "execution_count": 56,
     "metadata": {},
     "output_type": "execute_result"
    }
   ],
   "source": [
    "df_detailed = get_alpha_biomass_df(model_list=[E0, S0], potential_genes=['gltD'], detailed_alpha_table=False, **maf_kwargs)"
   ]
  },
  {
   "cell_type": "markdown",
   "metadata": {},
   "source": [
    "alpha_table with only alpha and the normalized biomass"
   ]
  },
  {
   "cell_type": "markdown",
   "metadata": {},
   "source": [
    "## Passing detailed dataframe as argument to retrieve alpha_table"
   ]
  },
  {
   "cell_type": "code",
   "execution_count": 57,
   "metadata": {},
   "outputs": [
    {
     "data": {
      "text/html": [
       "<div>\n",
       "<style scoped>\n",
       "    .dataframe tbody tr th:only-of-type {\n",
       "        vertical-align: middle;\n",
       "    }\n",
       "\n",
       "    .dataframe tbody tr th {\n",
       "        vertical-align: top;\n",
       "    }\n",
       "\n",
       "    .dataframe thead th {\n",
       "        text-align: right;\n",
       "    }\n",
       "</style>\n",
       "<table border=\"1\" class=\"dataframe\">\n",
       "  <thead>\n",
       "    <tr style=\"text-align: right;\">\n",
       "      <th></th>\n",
       "      <th>E0_alpha</th>\n",
       "      <th>E0_Normalized_biomass</th>\n",
       "      <th>S0_alpha</th>\n",
       "      <th>S0_Normalized_biomass</th>\n",
       "      <th>E0_response</th>\n",
       "      <th>S0_response</th>\n",
       "      <th>E0_response</th>\n",
       "      <th>S0_response</th>\n",
       "    </tr>\n",
       "    <tr>\n",
       "      <th>Gene_inhibition</th>\n",
       "      <th></th>\n",
       "      <th></th>\n",
       "      <th></th>\n",
       "      <th></th>\n",
       "      <th></th>\n",
       "      <th></th>\n",
       "      <th></th>\n",
       "      <th></th>\n",
       "    </tr>\n",
       "  </thead>\n",
       "  <tbody>\n",
       "    <tr>\n",
       "      <th>gltD</th>\n",
       "      <td>1.1475</td>\n",
       "      <td>0.500403</td>\n",
       "      <td>100000.0</td>\n",
       "      <td>1.0</td>\n",
       "      <td>Essential or Phenotype</td>\n",
       "      <td>Non_essential</td>\n",
       "      <td>Essential or Phenotype</td>\n",
       "      <td>Non_essential</td>\n",
       "    </tr>\n",
       "  </tbody>\n",
       "</table>\n",
       "</div>"
      ],
      "text/plain": [
       "                 E0_alpha  E0_Normalized_biomass  S0_alpha  \\\n",
       "Gene_inhibition                                              \n",
       "gltD               1.1475               0.500403  100000.0   \n",
       "\n",
       "                 S0_Normalized_biomass             E0_response    S0_response  \\\n",
       "Gene_inhibition                                                                 \n",
       "gltD                               1.0  Essential or Phenotype  Non_essential   \n",
       "\n",
       "                            E0_response    S0_response  \n",
       "Gene_inhibition                                         \n",
       "gltD             Essential or Phenotype  Non_essential  "
      ]
     },
     "execution_count": 57,
     "metadata": {},
     "output_type": "execute_result"
    }
   ],
   "source": [
    "alpha_table2 = get_alpha_biomass_df(alpha_biomass_df=df_detailed,\n",
    "                                    detailed_alpha_table=False)\n",
    "alpha_table2.head()"
   ]
  },
  {
   "cell_type": "markdown",
   "metadata": {},
   "source": [
    "## Essentiality difference between models\n",
    "\n",
    "Some encoded reactions corresponding to the target gene are nonessential for one species while being essential for the other\n",
    "1. Flux dropped to 0 even without reduction in biomass yield \n",
    "2. Reduction in flux through reactions lead to reduction in biomass production). "
   ]
  },
  {
   "cell_type": "code",
   "execution_count": 61,
   "metadata": {},
   "outputs": [
    {
     "data": {
      "text/html": [
       "<div>\n",
       "<style scoped>\n",
       "    .dataframe tbody tr th:only-of-type {\n",
       "        vertical-align: middle;\n",
       "    }\n",
       "\n",
       "    .dataframe tbody tr th {\n",
       "        vertical-align: top;\n",
       "    }\n",
       "\n",
       "    .dataframe thead th {\n",
       "        text-align: right;\n",
       "    }\n",
       "</style>\n",
       "<table border=\"1\" class=\"dataframe\">\n",
       "  <thead>\n",
       "    <tr style=\"text-align: right;\">\n",
       "      <th></th>\n",
       "      <th>E0_alpha</th>\n",
       "      <th>E0_Normalized_biomass</th>\n",
       "      <th>S0_alpha</th>\n",
       "      <th>S0_Normalized_biomass</th>\n",
       "      <th>E0_response</th>\n",
       "      <th>S0_response</th>\n",
       "      <th>E0_response</th>\n",
       "      <th>S0_response</th>\n",
       "    </tr>\n",
       "    <tr>\n",
       "      <th>Gene_inhibition</th>\n",
       "      <th></th>\n",
       "      <th></th>\n",
       "      <th></th>\n",
       "      <th></th>\n",
       "      <th></th>\n",
       "      <th></th>\n",
       "      <th></th>\n",
       "      <th></th>\n",
       "    </tr>\n",
       "  </thead>\n",
       "  <tbody>\n",
       "    <tr>\n",
       "      <th>gltD</th>\n",
       "      <td>1.1475</td>\n",
       "      <td>0.500403</td>\n",
       "      <td>100000.0</td>\n",
       "      <td>1.0</td>\n",
       "      <td>Essential or Phenotype</td>\n",
       "      <td>Non_essential</td>\n",
       "      <td>Essential or Phenotype</td>\n",
       "      <td>Non_essential</td>\n",
       "    </tr>\n",
       "  </tbody>\n",
       "</table>\n",
       "</div>"
      ],
      "text/plain": [
       "                 E0_alpha  E0_Normalized_biomass  S0_alpha  \\\n",
       "Gene_inhibition                                              \n",
       "gltD               1.1475               0.500403  100000.0   \n",
       "\n",
       "                 S0_Normalized_biomass             E0_response    S0_response  \\\n",
       "Gene_inhibition                                                                 \n",
       "gltD                               1.0  Essential or Phenotype  Non_essential   \n",
       "\n",
       "                            E0_response    S0_response  \n",
       "Gene_inhibition                                         \n",
       "gltD             Essential or Phenotype  Non_essential  "
      ]
     },
     "execution_count": 61,
     "metadata": {},
     "output_type": "execute_result"
    }
   ],
   "source": [
    "alpha_table2.loc[['gltD']]"
   ]
  },
  {
   "cell_type": "markdown",
   "metadata": {},
   "source": [
    "## Heterogeneity of $\\alpha$ across medium property\n",
    "Value of $\\alpha$ is dependent on the type and concentration of nutrients and carbon source(lactose vs methionine limiting condition), which also affects the normalization denominator under each environmental condition. \n",
    "\n",
    "<div class=\"alert alert-info\">\n",
    "\n",
    "**Note :** Default medium is set in ``BasicModel``\n",
    "\n",
    "</div>"
   ]
  },
  {
   "cell_type": "markdown",
   "metadata": {},
   "source": [
    "E.coli medium under limiting lactose condition"
   ]
  },
  {
   "cell_type": "code",
   "execution_count": 133,
   "metadata": {},
   "outputs": [
    {
     "name": "stdout",
     "output_type": "stream",
     "text": [
      "{'EX_pi_e': 10, 'EX_met__L_e': 0.0647, 'EX_fe3_e': 10, 'EX_mn2_e': 10, 'EX_fe2_e': 10, 'EX_zn2_e': 10, 'EX_mg2_e': 10, 'EX_lcts_e': 10, 'EX_ca2_e': 10, 'EX_ni2_e': 10, 'EX_cu2_e': 10, 'EX_cobalt2_e': 10, 'EX_mobd_e': 10, 'EX_so4_e': 10, 'EX_nh4_e': 10, 'EX_k_e': 10, 'EX_cl_e': 10, 'EX_o2_e': 10}\n",
      "biomass flux = 0 under EX_lcts_e uptake limit: = 10\n"
     ]
    }
   ],
   "source": [
    "print(E0.medium)\n",
    "print('biomass flux =', round(E0.slim_optimize()), 'under EX_lcts_e uptake limit: =', E0.medium['EX_lcts_e'],)"
   ]
  },
  {
   "cell_type": "markdown",
   "metadata": {},
   "source": [
    "Try setting medium with limited methionine and unlimited lactose"
   ]
  },
  {
   "cell_type": "code",
   "execution_count": 132,
   "metadata": {},
   "outputs": [
    {
     "name": "stdout",
     "output_type": "stream",
     "text": [
      "biomass flux = 0.42 under EX_met__L_e uptake limit: = 0.0647\n"
     ]
    }
   ],
   "source": [
    "E0.medium = {\n",
    "    'EX_pi_e': 10,\n",
    "    'EX_met__L_e': 0.0647,\n",
    "    # 'EX_met__L_e': 1,\n",
    "    'EX_fe3_e': 10,\n",
    "    'EX_mn2_e': 10,\n",
    "    'EX_fe2_e': 10,\n",
    "    'EX_zn2_e': 10,\n",
    "    'EX_mg2_e': 10,\n",
    "    'EX_lcts_e': 10,\n",
    "    'EX_ca2_e': 10,\n",
    "    'EX_ni2_e': 10,\n",
    "    'EX_cu2_e': 10,\n",
    "    'EX_cobalt2_e': 10,\n",
    "    'EX_mobd_e': 10,\n",
    "    'EX_so4_e': 10,\n",
    "    'EX_nh4_e': 10,\n",
    "    'EX_k_e': 10,\n",
    "    'EX_cl_e': 10,\n",
    "    'EX_o2_e': 10}\n",
    "print('biomass flux =', round(E0.slim_optimize(),3), 'under EX_met__L_e uptake limit: =', E0.medium['EX_met__L_e'],)"
   ]
  },
  {
   "cell_type": "markdown",
   "metadata": {},
   "source": [
    "<div class=\"alert alert-warning\">\n",
    "\n",
    "**Warning :** Medium is a dictionary assigned to the metabolic model, changing medium inside context manager **WILL NOT** revert the assignment of medium \n",
    "</div>"
   ]
  },
  {
   "cell_type": "code",
   "execution_count": 118,
   "metadata": {},
   "outputs": [],
   "source": [
    "exaggerated_alpha = get_alpha_biomass_df(model_list=[E0], potential_genes=['folA'], detailed_alpha_table=False, **maf_kwargs)\n",
    "# df_detailed = get_alpha_biomass_df(model_list=[E0], potential_genes=['folA'], detailed_alpha_table=True, **maf_kwargs)"
   ]
  },
  {
   "cell_type": "code",
   "execution_count": 119,
   "metadata": {},
   "outputs": [
    {
     "name": "stdout",
     "output_type": "stream",
     "text": [
      "Methionie Limiting IC50 alpha:  99.32249999999999\n",
      "Lactose Limiting IC50 alpha: 52.785000000000004\n"
     ]
    }
   ],
   "source": [
    "# exaggerated_alpha.columns\n",
    "position = 'folA', 'E0_alpha'\n",
    "\n",
    "print('Methionie Limiting IC50 alpha: ', exaggerated_alpha.loc[position])\n",
    "print('Lactose Limiting IC50 alpha:', df_detailed.loc[position])"
   ]
  },
  {
   "cell_type": "code",
   "execution_count": null,
   "metadata": {},
   "outputs": [],
   "source": []
  }
 ],
 "metadata": {
  "kernelspec": {
   "display_name": "vR",
   "language": "python",
   "name": "vr"
  },
  "language_info": {
   "codemirror_mode": {
    "name": "ipython",
    "version": 3
   },
   "file_extension": ".py",
   "mimetype": "text/x-python",
   "name": "python",
   "nbconvert_exporter": "python",
   "pygments_lexer": "ipython3",
   "version": "3.11.5"
  }
 },
 "nbformat": 4,
 "nbformat_minor": 2
}
