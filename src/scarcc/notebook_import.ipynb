{
 "cells": [
  {
   "cell_type": "code",
   "execution_count": 1,
   "metadata": {},
   "outputs": [],
   "source": [
    "from scarcc.preparation.perturbation import alter_Sij, get_alphas_from_tab\n"
   ]
  },
  {
   "cell_type": "code",
   "execution_count": 2,
   "metadata": {},
   "outputs": [
    {
     "ename": "OSError",
     "evalue": "The file with '../models/iML1515_E0.xml' does not exist, or is not an SBML string. Provide the path to an existing SBML file or a valid SBML string representation:\n",
     "output_type": "error",
     "traceback": [
      "\u001b[1;31m---------------------------------------------------------------------------\u001b[0m",
      "\u001b[1;31mOSError\u001b[0m                                   Traceback (most recent call last)",
      "Cell \u001b[1;32mIn[2], line 12\u001b[0m\n\u001b[0;32m      4\u001b[0m \u001b[38;5;28;01mfrom\u001b[39;00m \u001b[38;5;21;01mscarcc\u001b[39;00m\u001b[38;5;21;01m.\u001b[39;00m\u001b[38;5;21;01mpreparation\u001b[39;00m\u001b[38;5;21;01m.\u001b[39;00m\u001b[38;5;21;01mmetabolic_model\u001b[39;00m \u001b[38;5;28;01mimport\u001b[39;00m BasicModel\n\u001b[0;32m      6\u001b[0m logging\u001b[38;5;241m.\u001b[39mbasicConfig(filename\u001b[38;5;241m=\u001b[39m\u001b[38;5;124m'\u001b[39m\u001b[38;5;124mtest_stoi_scaling.log\u001b[39m\u001b[38;5;124m'\u001b[39m, \n\u001b[0;32m      7\u001b[0m                     level\u001b[38;5;241m=\u001b[39mlogging\u001b[38;5;241m.\u001b[39mDEBUG,\n\u001b[0;32m      8\u001b[0m                     \u001b[38;5;28mformat\u001b[39m\u001b[38;5;241m=\u001b[39m\u001b[38;5;124m'\u001b[39m\u001b[38;5;132;01m%(asctime)s\u001b[39;00m\u001b[38;5;124m - \u001b[39m\u001b[38;5;132;01m%(name)s\u001b[39;00m\u001b[38;5;124m - \u001b[39m\u001b[38;5;132;01m%(levelname)s\u001b[39;00m\u001b[38;5;124m - \u001b[39m\u001b[38;5;132;01m%(message)s\u001b[39;00m\u001b[38;5;124m'\u001b[39m,\n\u001b[0;32m      9\u001b[0m                     datefmt\u001b[38;5;241m=\u001b[39m\u001b[38;5;124m'\u001b[39m\u001b[38;5;124m%\u001b[39m\u001b[38;5;124mY-\u001b[39m\u001b[38;5;124m%\u001b[39m\u001b[38;5;124mm-\u001b[39m\u001b[38;5;132;01m%d\u001b[39;00m\u001b[38;5;124m \u001b[39m\u001b[38;5;124m%\u001b[39m\u001b[38;5;124mH:\u001b[39m\u001b[38;5;124m%\u001b[39m\u001b[38;5;124mM:\u001b[39m\u001b[38;5;124m%\u001b[39m\u001b[38;5;124mS\u001b[39m\u001b[38;5;124m'\u001b[39m,\n\u001b[0;32m     10\u001b[0m                     filemode\u001b[38;5;241m=\u001b[39m\u001b[38;5;124m'\u001b[39m\u001b[38;5;124mw\u001b[39m\u001b[38;5;124m'\u001b[39m)\n\u001b[1;32m---> 12\u001b[0m E0, S0, all_components \u001b[38;5;241m=\u001b[39m \u001b[94mBasicModel\u001b[39m\u001b[94m(\u001b[39m\u001b[94mflux_weighting\u001b[39m\u001b[94m=\u001b[39m\u001b[94;01mTrue\u001b[39;00m\u001b[94m)\u001b[39m\u001b[94m.\u001b[39m\u001b[94mload_ES_models\u001b[39m\u001b[94m(\u001b[39m\u001b[94m)\u001b[39m\n",
      "File \u001b[1;32mD:\\scarccpy\\src\\scarcc\\preparation\\metabolic_model\\basic_model.py:83\u001b[0m, in \u001b[0;36mBasicModel.load_ES_models\u001b[1;34m(self)\u001b[0m\n\u001b[0;32m     81\u001b[0m \u001b[38;5;250m\u001b[39m\u001b[38;5;124;03m\"\"\"Load E0 and S0 models with customized \"\"\"\u001b[39;00m\n\u001b[0;32m     82\u001b[0m \u001b[38;5;28;01mif\u001b[39;00m \u001b[38;5;28mself\u001b[39m\u001b[38;5;241m.\u001b[39mE0 \u001b[38;5;129;01mis\u001b[39;00m \u001b[38;5;28;01mNone\u001b[39;00m:\n\u001b[1;32m---> 83\u001b[0m     \u001b[38;5;28mself\u001b[39m\u001b[38;5;241m.\u001b[39mE0 \u001b[38;5;241m=\u001b[39m \u001b[94mcobra\u001b[39m\u001b[94m.\u001b[39m\u001b[94mio\u001b[39m\u001b[94m.\u001b[39m\u001b[94mread_sbml_model\u001b[39m\u001b[94m(\u001b[39m\u001b[94m\"\u001b[39m\u001b[94m../models/iML1515_E0.xml\u001b[39m\u001b[94m\"\u001b[39m\u001b[94m)\u001b[39m\n\u001b[0;32m     84\u001b[0m     \u001b[38;5;28mself\u001b[39m\u001b[38;5;241m.\u001b[39mS0 \u001b[38;5;241m=\u001b[39m cobra\u001b[38;5;241m.\u001b[39mio\u001b[38;5;241m.\u001b[39mread_sbml_model(\u001b[38;5;124m\"\u001b[39m\u001b[38;5;124m../models/STM_v1_0_S0.xml\u001b[39m\u001b[38;5;124m\"\u001b[39m)\n\u001b[0;32m     85\u001b[0m     \u001b[38;5;28mself\u001b[39m\u001b[38;5;241m.\u001b[39mE0\u001b[38;5;241m.\u001b[39mid, \u001b[38;5;28mself\u001b[39m\u001b[38;5;241m.\u001b[39mS0\u001b[38;5;241m.\u001b[39mid \u001b[38;5;241m=\u001b[39m \u001b[38;5;124m'\u001b[39m\u001b[38;5;124mE0\u001b[39m\u001b[38;5;124m'\u001b[39m, \u001b[38;5;124m'\u001b[39m\u001b[38;5;124mS0\u001b[39m\u001b[38;5;124m'\u001b[39m\n",
      "File \u001b[1;32m~\\AppData\\Roaming\\Python\\Python311\\site-packages\\cobra\\io\\sbml.py:460\u001b[0m, in \u001b[0;36mread_sbml_model\u001b[1;34m(filename, number, f_replace, **kwargs)\u001b[0m\n\u001b[0;32m    458\u001b[0m     \u001b[38;5;28;01mreturn\u001b[39;00m _sbml_to_model(doc, number\u001b[38;5;241m=\u001b[39mnumber, f_replace\u001b[38;5;241m=\u001b[39mf_replace, \u001b[38;5;241m*\u001b[39m\u001b[38;5;241m*\u001b[39mkwargs)\n\u001b[0;32m    459\u001b[0m \u001b[38;5;28;01mexcept\u001b[39;00m \u001b[38;5;167;01mIOError\u001b[39;00m \u001b[38;5;28;01mas\u001b[39;00m e:\n\u001b[1;32m--> 460\u001b[0m     \u001b[38;5;28;01mraise\u001b[39;00m e\n\u001b[0;32m    462\u001b[0m \u001b[38;5;28;01mexcept\u001b[39;00m \u001b[38;5;167;01mException\u001b[39;00m \u001b[38;5;28;01mas\u001b[39;00m original_error:\n\u001b[0;32m    463\u001b[0m     cobra_error \u001b[38;5;241m=\u001b[39m CobraSBMLError(\n\u001b[0;32m    464\u001b[0m         \u001b[38;5;124m\"\u001b[39m\u001b[38;5;124mSomething went wrong reading the SBML model. Most likely the SBML\u001b[39m\u001b[38;5;124m\"\u001b[39m\n\u001b[0;32m    465\u001b[0m         \u001b[38;5;124m\"\u001b[39m\u001b[38;5;124m model is not valid. Please check that your model is valid using \u001b[39m\u001b[38;5;124m\"\u001b[39m\n\u001b[1;32m   (...)\u001b[0m\n\u001b[0;32m    470\u001b[0m         \u001b[38;5;124m\"\u001b[39m\u001b[38;5;124mat https://github.com/opencobra/cobrapy/issues .\u001b[39m\u001b[38;5;124m\"\u001b[39m\n\u001b[0;32m    471\u001b[0m     )\n",
      "File \u001b[1;32m~\\AppData\\Roaming\\Python\\Python311\\site-packages\\cobra\\io\\sbml.py:457\u001b[0m, in \u001b[0;36mread_sbml_model\u001b[1;34m(filename, number, f_replace, **kwargs)\u001b[0m\n\u001b[0;32m    402\u001b[0m \u001b[38;5;250m\u001b[39m\u001b[38;5;124;03m\"\"\"Read SBML model from given filename.\u001b[39;00m\n\u001b[0;32m    403\u001b[0m \n\u001b[0;32m    404\u001b[0m \u001b[38;5;124;03mIf the given filename ends with the suffix ''.gz'' (for example,\u001b[39;00m\n\u001b[1;32m   (...)\u001b[0m\n\u001b[0;32m    454\u001b[0m \u001b[38;5;124;03mFile handles to compressed files are not supported yet.\u001b[39;00m\n\u001b[0;32m    455\u001b[0m \u001b[38;5;124;03m\"\"\"\u001b[39;00m\n\u001b[0;32m    456\u001b[0m \u001b[38;5;28;01mtry\u001b[39;00m:\n\u001b[1;32m--> 457\u001b[0m     doc \u001b[38;5;241m=\u001b[39m \u001b[94m_get_doc_from_filename\u001b[39m\u001b[94m(\u001b[39m\u001b[94mfilename\u001b[39m\u001b[94m)\u001b[39m\n\u001b[0;32m    458\u001b[0m     \u001b[38;5;28;01mreturn\u001b[39;00m _sbml_to_model(doc, number\u001b[38;5;241m=\u001b[39mnumber, f_replace\u001b[38;5;241m=\u001b[39mf_replace, \u001b[38;5;241m*\u001b[39m\u001b[38;5;241m*\u001b[39mkwargs)\n\u001b[0;32m    459\u001b[0m \u001b[38;5;28;01mexcept\u001b[39;00m \u001b[38;5;167;01mIOError\u001b[39;00m \u001b[38;5;28;01mas\u001b[39;00m e:\n",
      "File \u001b[1;32m~\\AppData\\Roaming\\Python\\Python311\\site-packages\\cobra\\io\\sbml.py:504\u001b[0m, in \u001b[0;36m_get_doc_from_filename\u001b[1;34m(filename)\u001b[0m\n\u001b[0;32m    501\u001b[0m         doc: libsbml\u001b[38;5;241m.\u001b[39mSBMLDocument \u001b[38;5;241m=\u001b[39m libsbml\u001b[38;5;241m.\u001b[39mreadSBMLFromFile(filename)\n\u001b[0;32m    502\u001b[0m     \u001b[38;5;28;01melse\u001b[39;00m:\n\u001b[0;32m    503\u001b[0m         \u001b[38;5;66;03m# string representation\u001b[39;00m\n\u001b[1;32m--> 504\u001b[0m         \u001b[38;5;28;01mraise\u001b[39;00m \u001b[38;5;167;01mIOError\u001b[39;00m(\n\u001b[0;32m    505\u001b[0m             \u001b[38;5;124mf\u001b[39m\u001b[38;5;124m\"\u001b[39m\u001b[38;5;124mThe file with \u001b[39m\u001b[38;5;124m'\u001b[39m\u001b[38;5;132;01m{\u001b[39;00mfilename\u001b[38;5;132;01m}\u001b[39;00m\u001b[38;5;124m'\u001b[39m\u001b[38;5;124m does not exist, \u001b[39m\u001b[38;5;124m\"\u001b[39m\n\u001b[0;32m    506\u001b[0m             \u001b[38;5;124mf\u001b[39m\u001b[38;5;124m\"\u001b[39m\u001b[38;5;124mor is not an SBML string. Provide the path to \u001b[39m\u001b[38;5;124m\"\u001b[39m\n\u001b[0;32m    507\u001b[0m             \u001b[38;5;124mf\u001b[39m\u001b[38;5;124m\"\u001b[39m\u001b[38;5;124man existing SBML file or a valid SBML string representation:\u001b[39m\u001b[38;5;130;01m\\n\u001b[39;00m\u001b[38;5;124m\"\u001b[39m\n\u001b[0;32m    508\u001b[0m         )\n\u001b[0;32m    509\u001b[0m \u001b[38;5;28;01melif\u001b[39;00m \u001b[38;5;28mhasattr\u001b[39m(filename, \u001b[38;5;124m\"\u001b[39m\u001b[38;5;124mread\u001b[39m\u001b[38;5;124m\"\u001b[39m):\n\u001b[0;32m    510\u001b[0m     \u001b[38;5;66;03m# file handle\u001b[39;00m\n\u001b[0;32m    511\u001b[0m     doc: libsbml\u001b[38;5;241m.\u001b[39mSBMLDocument \u001b[38;5;241m=\u001b[39m libsbml\u001b[38;5;241m.\u001b[39mreadSBMLFromString(filename\u001b[38;5;241m.\u001b[39mread())\n",
      "\u001b[1;31mOSError\u001b[0m: The file with '../models/iML1515_E0.xml' does not exist, or is not an SBML string. Provide the path to an existing SBML file or a valid SBML string representation:\n"
     ]
    }
   ],
   "source": [
    "import logging\n",
    "from scarcc.preparation.perturbation import alter_Sij, get_alphas_from_tab\n",
    "# from scarcc.preparation.perturbation import iter_species\n",
    "from scarcc.preparation.metabolic_model import BasicModel\n",
    "\n",
    "logging.basicConfig(filename='test_stoi_scaling.log', \n",
    "                    level=logging.DEBUG,\n",
    "                    format='%(asctime)s - %(name)s - %(levelname)s - %(message)s',\n",
    "                    datefmt='%Y-%m-%d %H:%M:%S',\n",
    "                    filemode='w')\n",
    "\n",
    "E0, S0, all_components = BasicModel(flux_weighting=True).load_ES_models()\n"
   ]
  },
  {
   "cell_type": "code",
   "execution_count": null,
   "metadata": {},
   "outputs": [],
   "source": []
  },
  {
   "cell_type": "code",
   "execution_count": 1,
   "metadata": {},
   "outputs": [
    {
     "ename": "AttributeError",
     "evalue": "module 'cabbcs' has no attribute 'data_analysis'",
     "output_type": "error",
     "traceback": [
      "\u001b[1;31m---------------------------------------------------------------------------\u001b[0m",
      "\u001b[1;31mAttributeError\u001b[0m                            Traceback (most recent call last)",
      "Cell \u001b[1;32mIn[1], line 7\u001b[0m\n\u001b[0;32m      5\u001b[0m sys\u001b[38;5;241m.\u001b[39mpath\u001b[38;5;241m.\u001b[39mappend(python_path)\n\u001b[0;32m      6\u001b[0m \u001b[38;5;28;01mimport\u001b[39;00m \u001b[38;5;21;01mcabbcs\u001b[39;00m\n\u001b[1;32m----> 7\u001b[0m \u001b[94mcabbcs\u001b[39m\u001b[94m.\u001b[39m\u001b[94mdata_analysis\u001b[39m\n",
      "\u001b[1;31mAttributeError\u001b[0m: module 'cabbcs' has no attribute 'data_analysis'"
     ]
    }
   ],
   "source": [
    "import sys\n",
    "import os\n",
    "\n",
    "python_path = r'C:\\Users\\wongt\\OneDrive\\COMETS_Jupyter\\Run_Comets\\cabbcspy\\src'\n",
    "sys.path.append(python_path)\n",
    "import cabbcs\n",
    "cabbcs.data_analysis\n"
   ]
  },
  {
   "cell_type": "code",
   "execution_count": 5,
   "metadata": {},
   "outputs": [
    {
     "data": {
      "text/plain": [
       "<module 'cabbcs' from 'c:\\\\Users\\\\wongt\\\\OneDrive\\\\COMETS_Jupyter\\\\Run_Comets\\\\cabbcs\\\\src\\\\cabbcs\\\\__init__.py'>"
      ]
     },
     "execution_count": 5,
     "metadata": {},
     "output_type": "execute_result"
    }
   ],
   "source": [
    "from importlib import reload\n",
    "reload(cabbcs)"
   ]
  },
  {
   "cell_type": "code",
   "execution_count": 6,
   "metadata": {},
   "outputs": [],
   "source": [
    "from cabbcs.sim_preparation import basic_model"
   ]
  },
  {
   "cell_type": "code",
   "execution_count": 8,
   "metadata": {},
   "outputs": [
    {
     "ename": "ModuleNotFoundError",
     "evalue": "No module named 'sim_preparation'",
     "output_type": "error",
     "traceback": [
      "\u001b[1;31m---------------------------------------------------------------------------\u001b[0m",
      "\u001b[1;31mModuleNotFoundError\u001b[0m                       Traceback (most recent call last)",
      "Cell \u001b[1;32mIn[8], line 2\u001b[0m\n\u001b[0;32m      1\u001b[0m reload(cabbcs)\n\u001b[1;32m----> 2\u001b[0m \u001b[38;5;28;01mfrom\u001b[39;00m \u001b[38;5;21;01mcabbcs\u001b[39;00m \u001b[38;5;28;01mimport\u001b[39;00m test\n",
      "File \u001b[1;32mc:\\Users\\wongt\\OneDrive\\COMETS_Jupyter\\Run_Comets\\cabbcs\\src\\cabbcs\\test.py:5\u001b[0m\n\u001b[0;32m      3\u001b[0m \u001b[38;5;28;01mfrom\u001b[39;00m \u001b[38;5;21;01m.\u001b[39;00m\u001b[38;5;21;01mperturb\u001b[39;00m\u001b[38;5;21;01m.\u001b[39;00m\u001b[38;5;21;01miter_species\u001b[39;00m \u001b[38;5;28;01mimport\u001b[39;00m iter_species\n\u001b[0;32m      4\u001b[0m \u001b[38;5;66;03m##\u001b[39;00m\n\u001b[1;32m----> 5\u001b[0m \u001b[38;5;28;01mfrom\u001b[39;00m \u001b[38;5;21;01msim_preparation\u001b[39;00m \u001b[38;5;28;01mimport\u001b[39;00m component, medium\n\u001b[0;32m      6\u001b[0m \u001b[38;5;28;01mfrom\u001b[39;00m \u001b[38;5;21;01msim_engine\u001b[39;00m \u001b[38;5;28;01mimport\u001b[39;00m result_processing\n\u001b[0;32m      8\u001b[0m \u001b[38;5;28;01mfrom\u001b[39;00m \u001b[38;5;21;01msim_preparation\u001b[39;00m \u001b[38;5;28;01mimport\u001b[39;00m basic_model\n",
      "\u001b[1;31mModuleNotFoundError\u001b[0m: No module named 'sim_preparation'"
     ]
    }
   ],
   "source": [
    "reload(cabbcs)\n",
    "from cabbcs import test"
   ]
  },
  {
   "cell_type": "code",
   "execution_count": 4,
   "metadata": {},
   "outputs": [
    {
     "data": {
      "text/plain": [
       "cabbcs.sim_preparation.basic_model.basic_model"
      ]
     },
     "execution_count": 4,
     "metadata": {},
     "output_type": "execute_result"
    }
   ],
   "source": [
    "basic_model.basic_model()"
   ]
  },
  {
   "cell_type": "code",
   "execution_count": null,
   "metadata": {},
   "outputs": [],
   "source": []
  }
 ],
 "metadata": {
  "kernelspec": {
   "display_name": "vR",
   "language": "python",
   "name": "vr"
  },
  "language_info": {
   "codemirror_mode": {
    "name": "ipython",
    "version": 3
   },
   "file_extension": ".py",
   "mimetype": "text/x-python",
   "name": "python",
   "nbconvert_exporter": "python",
   "pygments_lexer": "ipython3",
   "version": "3.11.5"
  }
 },
 "nbformat": 4,
 "nbformat_minor": 2
}
